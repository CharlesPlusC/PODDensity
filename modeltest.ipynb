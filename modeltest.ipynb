{
 "cells": [
  {
   "cell_type": "code",
   "execution_count": 2,
   "metadata": {},
   "outputs": [
    {
     "name": "stderr",
     "output_type": "stream",
     "text": [
      "OpenJDK 64-Bit Server VM warning: Attempt to protect stack guard pages failed.\n",
      "OpenJDK 64-Bit Server VM warning: Attempt to deallocate stack guard pages failed.\n"
     ]
    },
    {
     "name": "stdout",
     "output_type": "stream",
     "text": [
      "Downloading file from: https://gitlab.orekit.org/orekit/orekit-data/-/archive/master/orekit-data-master.zip\n"
     ]
    }
   ],
   "source": [
    "import orekit\n",
    "from orekit.pyhelpers import setup_orekit_curdir, datetime_to_absolutedate,download_orekit_data_curdir\n",
    "\n",
    "vm = orekit.initVM()\n",
    "\n",
    "download_orekit_data_curdir()\n",
    "setup_orekit_curdir()\n",
    "\n",
    "from orekit.pyhelpers import datetime_to_absolutedate\n",
    "from org.hipparchus.geometry.euclidean.threed import Vector3D\n",
    "from org.orekit.frames import FramesFactory\n",
    "from org.orekit.utils import IERSConventions\n",
    "from org.orekit.models.earth import ReferenceEllipsoid\n",
    "from org.orekit.bodies import CelestialBodyFactory\n",
    "from org.orekit.models.earth.atmosphere.data import CssiSpaceWeatherData\n",
    "from org.orekit.models.earth.atmosphere import DTM2000"
   ]
  },
  {
   "cell_type": "code",
   "execution_count": 61,
   "metadata": {},
   "outputs": [],
   "source": []
  },
  {
   "cell_type": "code",
   "execution_count": 4,
   "metadata": {},
   "outputs": [],
   "source": [
    "cssi_sw_data = CssiSpaceWeatherData(CssiSpaceWeatherData.DEFAULT_SUPPORTED_NAMES)"
   ]
  },
  {
   "cell_type": "code",
   "execution_count": 11,
   "metadata": {},
   "outputs": [
    {
     "name": "stdout",
     "output_type": "stream",
     "text": [
      "kp_24hr: 8.375\n",
      "Ap: JArray<double>[271.0, 400.0, 300.0, 300.0, 179.0, 10.25, 4.25]\n",
      "avg_flux: 177.1\n",
      "daily_flux: 223.4\n",
      "instant_flux: 213.7\n",
      "mean_flux: 177.1\n",
      "three_hour_kp: 9.0\n"
     ]
    }
   ],
   "source": [
    "test_datetime = datetime_to_absolutedate(datetime.datetime(2024, 5, 11, 0, 0, 0))\n",
    "kp_24hr = cssi_sw_data.get24HoursKp(test_datetime)\n",
    "Ap = cssi_sw_data.getAp(test_datetime)\n",
    "avg_flux = cssi_sw_data.getAverageFlux(test_datetime)\n",
    "daily_flux = cssi_sw_data.getDailyFlux(test_datetime)\n",
    "instant_flux = cssi_sw_data.getInstantFlux(test_datetime)\n",
    "mean_flux = cssi_sw_data.getMeanFlux(test_datetime)\n",
    "three_hour_kp = cssi_sw_data.getThreeHourlyKP(test_datetime)\n",
    "print(f\"kp_24hr: {kp_24hr}\")\n",
    "print(f\"Ap: {Ap}\")\n",
    "print(f\"avg_flux: {avg_flux}\")\n",
    "print(f\"daily_flux: {daily_flux}\")\n",
    "print(f\"instant_flux: {instant_flux}\")\n",
    "print(f\"mean_flux: {mean_flux}\")\n",
    "print(f\"three_hour_kp: {three_hour_kp}\")"
   ]
  },
  {
   "cell_type": "code",
   "execution_count": 12,
   "metadata": {},
   "outputs": [
    {
     "name": "stdout",
     "output_type": "stream",
     "text": [
      "f107: 223.4\n",
      "f107a: 177.1\n",
      "ap_values: [271.   400.   300.   300.   179.    10.25   4.25]\n"
     ]
    }
   ],
   "source": [
    "from pymsis import msis\n",
    "from pymsis.utils import get_f107_ap\n",
    "# Extract UTC dates\n",
    "utc_date = datetime.datetime(2024, 5, 11, 0, 0, 0)\n",
    "\n",
    "# Get f107, f107a, and ap_values\n",
    "f107, f107a, ap_values = get_f107_ap(utc_date)\n",
    "print(f\"f107: {f107}\")\n",
    "print(f\"f107a: {f107a}\")\n",
    "print(f\"ap_values: {ap_values}\")"
   ]
  },
  {
   "cell_type": "code",
   "execution_count": 32,
   "metadata": {},
   "outputs": [],
   "source": [
    "import numpy as np\n",
    "from pyproj import Transformer\n",
    "\n",
    "def lla_to_ecef(lat, lon, alt_km):\n",
    "    \"\"\"\n",
    "    Convert Latitude, Longitude, Altitude (LLA) to Earth-Centered, Earth-Fixed (ECEF) coordinates.\n",
    "\n",
    "    Parameters\n",
    "    ----------\n",
    "    lat : List[float]\n",
    "        Latitudes in degrees.\n",
    "    lon : List[float]\n",
    "        Longitudes in degrees.\n",
    "    alt_km : List[float]\n",
    "        Altitudes in km.\n",
    "\n",
    "    Returns\n",
    "    -------\n",
    "    tuple\n",
    "        x, y, z coordinates in km.\n",
    "    \"\"\"\n",
    "    # Convert altitude to meters\n",
    "    alt_m = np.array(alt_km) * 1000\n",
    "\n",
    "    # Create a transformer for converting between LLA and ECEF\n",
    "    transformer = Transformer.from_crs(\n",
    "        \"EPSG:4326\",  # WGS-84 (LLA)\n",
    "        \"EPSG:4978\",  # WGS-84 (ECEF)\n",
    "        always_xy=True  # Ensure consistent (lon, lat, alt) ordering\n",
    "    )\n",
    "\n",
    "    # Convert coordinates\n",
    "    x_m, y_m, z_m = transformer.transform(lon, lat, alt_m)\n",
    "\n",
    "    # Convert back to km\n",
    "    x_km, y_km, z_km = x_m, y_m , z_m\n",
    "\n",
    "    return x_km, y_km, z_km"
   ]
  },
  {
   "cell_type": "code",
   "execution_count": 69,
   "metadata": {},
   "outputs": [
    {
     "name": "stdout",
     "output_type": "stream",
     "text": [
      "Converted data saved to GRACE_density_feb_2022_ecef.csv\n"
     ]
    }
   ],
   "source": [
    "#read LLA from grace density file\n",
    "\n",
    "import pandas as pd\n",
    "from pyproj import Transformer\n",
    "\n",
    "def convert_csv_lla_to_ecef(input_file, output_file):\n",
    "    # Read CSV file\n",
    "    df = pd.read_csv(input_file)\n",
    "    \n",
    "    # Convert altitude from meters to km\n",
    "    df[\"Alt_km\"] = df[\"Alt\"]/1000\n",
    "    \n",
    "    # Apply LLA to ECEF conversion\n",
    "    df[[\"X_ecef\", \"Y_ecef\", \"Z_ecef\"]] = df.apply(lambda row: pd.Series(lla_to_ecef(row[\"Lat\"], row[\"Lon\"], row[\"Alt_km\"])), axis=1)\n",
    "    \n",
    "    # Save to new CSV file\n",
    "    df.to_csv(output_file, index=False)\n",
    "    \n",
    "    print(f\"Converted data saved to {output_file}\")\n",
    "\n",
    "# Example usage\n",
    "convert_csv_lla_to_ecef(\"GRACE_density_feb_2022.csv\", \"GRACE_density_feb_2022_ecef.csv\")"
   ]
  },
  {
   "cell_type": "code",
   "execution_count": 70,
   "metadata": {},
   "outputs": [
    {
     "name": "stdout",
     "output_type": "stream",
     "text": [
      "Converted data saved to GRACE_density_feb_2022_eci.csv\n"
     ]
    }
   ],
   "source": [
    "import pandas as pd\n",
    "import numpy as np\n",
    "from datetime import datetime, timedelta, timezone\n",
    "from astropy.time import Time\n",
    "from org.orekit.utils import PVCoordinates\n",
    "from org.orekit.frames import FramesFactory, ITRFVersion\n",
    "\n",
    "def utc_to_mjd(utc_time: datetime) -> float:\n",
    "    \"\"\"\n",
    "    Convert UTC time (datetime object) to Modified Julian Date using Astropy,\n",
    "    rounding to the nearest full second to avoid timing errors.\n",
    "    \"\"\"\n",
    "    if utc_time.microsecond >= 500000:\n",
    "        rounded_utc_time = utc_time + timedelta(seconds=1)\n",
    "        rounded_utc_time = rounded_utc_time.replace(microsecond=0)\n",
    "    else:\n",
    "        rounded_utc_time = utc_time.replace(microsecond=0)\n",
    "    \n",
    "    time = Time(utc_time, format='datetime', scale='utc', precision=8)\n",
    "    return time.mjd\n",
    "\n",
    "def SP3_to_EME2000(itrs_pos, itrs_vel, mjds):\n",
    "    # Orekit Frames\n",
    "    frame_CTS = FramesFactory.getITRF(ITRFVersion.ITRF_2014, IERSConventions.IERS_2010, False)\n",
    "    frame_EME2000 = FramesFactory.getEME2000()\n",
    "\n",
    "    # Prepare output arrays\n",
    "    eme2000_pos = np.empty_like(itrs_pos)\n",
    "    eme2000_vel = np.empty_like(itrs_vel)\n",
    "\n",
    "    # Iterate over each row of position, velocity, and corresponding MJD\n",
    "    for i in range(len(itrs_pos)):\n",
    "        # Convert MJD to Julian Date and then to UTC datetime\n",
    "        mjd = mjds.iloc[i]\n",
    "        jd = mjd + 2400000.5\n",
    "        days_since_epoch = jd - 2400000.5\n",
    "        base_date = datetime(1858, 11, 17)\n",
    "\n",
    "        # Round the days to the nearest second before creating the timedelta\n",
    "        # NOTE: this is to avoid floating point errors when creating the timedelta\n",
    "        seconds_since_epoch = (days_since_epoch * 86400)\n",
    "        seconds_since_epoch = round(days_since_epoch * 86400)\n",
    "        dt = base_date + timedelta(seconds=seconds_since_epoch)\n",
    "        dt = dt.replace(tzinfo=timezone.utc)\n",
    "\n",
    "        # Convert datetime to AbsoluteDate\n",
    "        absolute_date = datetime_to_absolutedate(dt)\n",
    "\n",
    "        # Convert inputs to Orekit's Vector3D and PVCoordinates (and convert from km to m)\n",
    "        itrs_pos_vector = Vector3D(float(itrs_pos[i, 0] * 1000), float(itrs_pos[i, 1] * 1000), float(itrs_pos[i, 2] * 1000))\n",
    "        itrs_vel_vector = Vector3D(float(itrs_vel[i, 0] * 1000), float(itrs_vel[i, 1] * 1000), float(itrs_vel[i, 2] * 1000))\n",
    "        pv_itrs = PVCoordinates(itrs_pos_vector, itrs_vel_vector)\n",
    "\n",
    "        # Transform Coordinates\n",
    "        cts_to_eme2000 = frame_CTS.getTransformTo(frame_EME2000, absolute_date)\n",
    "        pveci = cts_to_eme2000.transformPVCoordinates(pv_itrs)\n",
    "\n",
    "        # Extract position and velocity from transformed coordinates\n",
    "        eme2000_pos[i] = [pveci.getPosition().getX(), pveci.getPosition().getY(), pveci.getPosition().getZ()]\n",
    "        eme2000_vel[i] = [pveci.getVelocity().getX(), pveci.getVelocity().getY(), pveci.getVelocity().getZ()]\n",
    "\n",
    "        # Convert back from m to km \n",
    "        eme2000_pos[i] = eme2000_pos[i] / 1000\n",
    "        eme2000_vel[i] = eme2000_vel[i] / 1000\n",
    "\n",
    "    return eme2000_pos, eme2000_vel\n",
    "\n",
    "def convert_csv_ecef_to_eci(input_file, output_file):\n",
    "    # Read CSV file\n",
    "    df = pd.read_csv(input_file)\n",
    "    \n",
    "    # Convert UTC to MJD\n",
    "    df[\"MJD\"] = df[\"UTC\"].apply(lambda x: utc_to_mjd(datetime.strptime(x, \"%Y-%m-%d %H:%M:%S\")))\n",
    "    \n",
    "    # Extract ECEF position\n",
    "    ecef_positions = df[[\"X_ecef\", \"Y_ecef\", \"Z_ecef\"]].values\n",
    "    mjds = df[\"MJD\"]\n",
    "    \n",
    "    # Convert ECEF to ECI\n",
    "    eci_positions, eci_velocities = SP3_to_EME2000(ecef_positions, np.zeros_like(ecef_positions), mjds)\n",
    "    \n",
    "    # Add converted coordinates to DataFrame\n",
    "    df[[\"X_eci\", \"Y_eci\", \"Z_eci\"]] = eci_positions\n",
    "    df[[\"Vx_eci\", \"Vy_eci\", \"Vz_eci\"]] = eci_velocities\n",
    "    \n",
    "    # Save to new CSV file\n",
    "    df.to_csv(output_file, index=False)\n",
    "    \n",
    "    print(f\"Converted data saved to {output_file}\")\n",
    "\n",
    "# Example usage\n",
    "# convert_csv_ecef_to_eci(\"input.csv\", \"output.csv\")\n",
    "\n",
    "# Example usage\n",
    "convert_csv_ecef_to_eci(\"GRACE_density_feb_2022_ecef.csv\", \"GRACE_density_feb_2022_eci.csv\")\n"
   ]
  },
  {
   "cell_type": "code",
   "execution_count": 71,
   "metadata": {},
   "outputs": [
    {
     "data": {
      "application/vnd.plotly.v1+json": {
       "config": {
        "plotlyServerURL": "https://plot.ly"
       },
       "data": [
        {
         "marker": {
          "color": "blue",
          "size": 4
         },
         "mode": "markers",
         "type": "scatter3d",
         "x": [
          218085841.2626136,
          -165678004.62851813,
          -229502232.5120853,
          125341237.67240828,
          264413210.1684564,
          -84051582.1376097,
          -262666141.7238696,
          38014915.39218779,
          281763856.79055965,
          9896858.590976505,
          -269635680.5240168,
          -52928588.937631086,
          269634289.86496836,
          104145356.415428,
          -249249764.3611849,
          -136946783.19012824,
          229631344.5871947,
          186239044.4959636,
          -201454138.794057,
          -205048076.4769467,
          165605218.76585522,
          246297803.31391624,
          -128960275.91515164,
          -251287769.97410396,
          83626338.1876495,
          278469768.0971301,
          -38894821.52360822,
          -272113642.7926142,
          -7316829.556782913,
          280936348.1028951,
          57795966.434934415,
          -265780127.29620507,
          -96721528.36300896,
          254349005.0224519,
          148269490.44693524,
          -231395445.4775167,
          -174451579.8378122,
          201520639.31276757,
          220859495.4718484,
          -170058944.56878254,
          -233012985.3189309,
          127218632.22042648,
          267687032.42582008,
          -86777855.51935437,
          -267377088.4104208,
          39048565.55543478,
          285046697.03131276,
          9146003.283603352,
          -275225871.02839494,
          -53073858.6676895,
          272560638.045595,
          105240870.68117765
         ],
         "y": [
          322998375.9057385,
          -265224675.3435009,
          -342707813.47169644,
          204255678.9693288,
          397183703.2900123,
          -142759453.5047516,
          -396689465.50984544,
          72347914.25713287,
          427459138.1412243,
          -531065.7319286423,
          -411082757.5737756,
          -66033846.62384018,
          412871273.5428752,
          143273400.4198357,
          -383853579.26273376,
          -194830075.34862855,
          355727347.0590183,
          269678226.5220849,
          -314913614.97288525,
          -300317016.06877905,
          261688563.07441476,
          363514107.0477425,
          -208031435.3530075,
          -373249888.03767586,
          139794676.33649108,
          415700343.2298951,
          -73794667.74324282,
          -408249954.10028595,
          3480793.940032667,
          423256052.82686394,
          71517146.87672527,
          -402477993.23219806,
          -131474837.19431238,
          387042566.3452508,
          208568648.56337985,
          -354587929.9965409,
          -249817617.89768356,
          311123694.32990545,
          319764547.97309923,
          -265914829.44910204,
          -340086683.4806229,
          202455782.4733928,
          393058869.70937747,
          -143768044.74753386,
          -394763562.72180355,
          72297891.81145343,
          422681864.5642604,
          -1771298.037328312,
          -410103242.46732354,
          -64696730.24928093,
          407905092.8134815,
          141565601.0650935
         ],
         "z": [
          -356378626.5053045,
          -414535317.8692492,
          265812493.86492985,
          447909449.3995569,
          -208179250.08369556,
          -502963040.2966138,
          116049659.41259944,
          499645800.62663805,
          -41429077.62295949,
          -535775252.5035269,
          -46480855.43137243,
          495537881.77401686,
          126257338.71550947,
          -506365542.55278623,
          -208228662.6160727,
          436769510.3118263,
          278591597.98310995,
          -419073219.9670824,
          -353957607.7432893,
          332027194.8080695,
          400656405.2149821,
          -286703025.60096335,
          -466026030.4901563,
          194006411.22109675,
          478687240.7784202,
          -126844814.9252924,
          -528368547.7602044,
          36114870.31025435,
          503305503.75583696,
          42304846.50196464,
          -530028328.2952362,
          -128169849.63133964,
          471901905.3254456,
          203935116.17255965,
          -470359181.1452068,
          -284611624.8556442,
          389286277.6234073,
          342738455.07444566,
          -358082735.0883743,
          -416181196.8828959,
          266684361.42454875,
          444211797.7282395,
          -209512625.80440104,
          -505491930.39022887,
          116995402.91008674,
          496563634.255025,
          -42842358.31521158,
          -538240129.4441526,
          -46076163.26435474,
          493476850.9351275,
          124286946.66400348,
          -508409702.41605496
         ]
        }
       ],
       "layout": {
        "scene": {
         "xaxis": {
          "title": {
           "text": "X_eci"
          }
         },
         "yaxis": {
          "title": {
           "text": "Y_eci"
          }
         },
         "zaxis": {
          "title": {
           "text": "Z_eci"
          }
         }
        },
        "template": {
         "data": {
          "bar": [
           {
            "error_x": {
             "color": "#2a3f5f"
            },
            "error_y": {
             "color": "#2a3f5f"
            },
            "marker": {
             "line": {
              "color": "#E5ECF6",
              "width": 0.5
             },
             "pattern": {
              "fillmode": "overlay",
              "size": 10,
              "solidity": 0.2
             }
            },
            "type": "bar"
           }
          ],
          "barpolar": [
           {
            "marker": {
             "line": {
              "color": "#E5ECF6",
              "width": 0.5
             },
             "pattern": {
              "fillmode": "overlay",
              "size": 10,
              "solidity": 0.2
             }
            },
            "type": "barpolar"
           }
          ],
          "carpet": [
           {
            "aaxis": {
             "endlinecolor": "#2a3f5f",
             "gridcolor": "white",
             "linecolor": "white",
             "minorgridcolor": "white",
             "startlinecolor": "#2a3f5f"
            },
            "baxis": {
             "endlinecolor": "#2a3f5f",
             "gridcolor": "white",
             "linecolor": "white",
             "minorgridcolor": "white",
             "startlinecolor": "#2a3f5f"
            },
            "type": "carpet"
           }
          ],
          "choropleth": [
           {
            "colorbar": {
             "outlinewidth": 0,
             "ticks": ""
            },
            "type": "choropleth"
           }
          ],
          "contour": [
           {
            "colorbar": {
             "outlinewidth": 0,
             "ticks": ""
            },
            "colorscale": [
             [
              0,
              "#0d0887"
             ],
             [
              0.1111111111111111,
              "#46039f"
             ],
             [
              0.2222222222222222,
              "#7201a8"
             ],
             [
              0.3333333333333333,
              "#9c179e"
             ],
             [
              0.4444444444444444,
              "#bd3786"
             ],
             [
              0.5555555555555556,
              "#d8576b"
             ],
             [
              0.6666666666666666,
              "#ed7953"
             ],
             [
              0.7777777777777778,
              "#fb9f3a"
             ],
             [
              0.8888888888888888,
              "#fdca26"
             ],
             [
              1,
              "#f0f921"
             ]
            ],
            "type": "contour"
           }
          ],
          "contourcarpet": [
           {
            "colorbar": {
             "outlinewidth": 0,
             "ticks": ""
            },
            "type": "contourcarpet"
           }
          ],
          "heatmap": [
           {
            "colorbar": {
             "outlinewidth": 0,
             "ticks": ""
            },
            "colorscale": [
             [
              0,
              "#0d0887"
             ],
             [
              0.1111111111111111,
              "#46039f"
             ],
             [
              0.2222222222222222,
              "#7201a8"
             ],
             [
              0.3333333333333333,
              "#9c179e"
             ],
             [
              0.4444444444444444,
              "#bd3786"
             ],
             [
              0.5555555555555556,
              "#d8576b"
             ],
             [
              0.6666666666666666,
              "#ed7953"
             ],
             [
              0.7777777777777778,
              "#fb9f3a"
             ],
             [
              0.8888888888888888,
              "#fdca26"
             ],
             [
              1,
              "#f0f921"
             ]
            ],
            "type": "heatmap"
           }
          ],
          "heatmapgl": [
           {
            "colorbar": {
             "outlinewidth": 0,
             "ticks": ""
            },
            "colorscale": [
             [
              0,
              "#0d0887"
             ],
             [
              0.1111111111111111,
              "#46039f"
             ],
             [
              0.2222222222222222,
              "#7201a8"
             ],
             [
              0.3333333333333333,
              "#9c179e"
             ],
             [
              0.4444444444444444,
              "#bd3786"
             ],
             [
              0.5555555555555556,
              "#d8576b"
             ],
             [
              0.6666666666666666,
              "#ed7953"
             ],
             [
              0.7777777777777778,
              "#fb9f3a"
             ],
             [
              0.8888888888888888,
              "#fdca26"
             ],
             [
              1,
              "#f0f921"
             ]
            ],
            "type": "heatmapgl"
           }
          ],
          "histogram": [
           {
            "marker": {
             "pattern": {
              "fillmode": "overlay",
              "size": 10,
              "solidity": 0.2
             }
            },
            "type": "histogram"
           }
          ],
          "histogram2d": [
           {
            "colorbar": {
             "outlinewidth": 0,
             "ticks": ""
            },
            "colorscale": [
             [
              0,
              "#0d0887"
             ],
             [
              0.1111111111111111,
              "#46039f"
             ],
             [
              0.2222222222222222,
              "#7201a8"
             ],
             [
              0.3333333333333333,
              "#9c179e"
             ],
             [
              0.4444444444444444,
              "#bd3786"
             ],
             [
              0.5555555555555556,
              "#d8576b"
             ],
             [
              0.6666666666666666,
              "#ed7953"
             ],
             [
              0.7777777777777778,
              "#fb9f3a"
             ],
             [
              0.8888888888888888,
              "#fdca26"
             ],
             [
              1,
              "#f0f921"
             ]
            ],
            "type": "histogram2d"
           }
          ],
          "histogram2dcontour": [
           {
            "colorbar": {
             "outlinewidth": 0,
             "ticks": ""
            },
            "colorscale": [
             [
              0,
              "#0d0887"
             ],
             [
              0.1111111111111111,
              "#46039f"
             ],
             [
              0.2222222222222222,
              "#7201a8"
             ],
             [
              0.3333333333333333,
              "#9c179e"
             ],
             [
              0.4444444444444444,
              "#bd3786"
             ],
             [
              0.5555555555555556,
              "#d8576b"
             ],
             [
              0.6666666666666666,
              "#ed7953"
             ],
             [
              0.7777777777777778,
              "#fb9f3a"
             ],
             [
              0.8888888888888888,
              "#fdca26"
             ],
             [
              1,
              "#f0f921"
             ]
            ],
            "type": "histogram2dcontour"
           }
          ],
          "mesh3d": [
           {
            "colorbar": {
             "outlinewidth": 0,
             "ticks": ""
            },
            "type": "mesh3d"
           }
          ],
          "parcoords": [
           {
            "line": {
             "colorbar": {
              "outlinewidth": 0,
              "ticks": ""
             }
            },
            "type": "parcoords"
           }
          ],
          "pie": [
           {
            "automargin": true,
            "type": "pie"
           }
          ],
          "scatter": [
           {
            "fillpattern": {
             "fillmode": "overlay",
             "size": 10,
             "solidity": 0.2
            },
            "type": "scatter"
           }
          ],
          "scatter3d": [
           {
            "line": {
             "colorbar": {
              "outlinewidth": 0,
              "ticks": ""
             }
            },
            "marker": {
             "colorbar": {
              "outlinewidth": 0,
              "ticks": ""
             }
            },
            "type": "scatter3d"
           }
          ],
          "scattercarpet": [
           {
            "marker": {
             "colorbar": {
              "outlinewidth": 0,
              "ticks": ""
             }
            },
            "type": "scattercarpet"
           }
          ],
          "scattergeo": [
           {
            "marker": {
             "colorbar": {
              "outlinewidth": 0,
              "ticks": ""
             }
            },
            "type": "scattergeo"
           }
          ],
          "scattergl": [
           {
            "marker": {
             "colorbar": {
              "outlinewidth": 0,
              "ticks": ""
             }
            },
            "type": "scattergl"
           }
          ],
          "scattermapbox": [
           {
            "marker": {
             "colorbar": {
              "outlinewidth": 0,
              "ticks": ""
             }
            },
            "type": "scattermapbox"
           }
          ],
          "scatterpolar": [
           {
            "marker": {
             "colorbar": {
              "outlinewidth": 0,
              "ticks": ""
             }
            },
            "type": "scatterpolar"
           }
          ],
          "scatterpolargl": [
           {
            "marker": {
             "colorbar": {
              "outlinewidth": 0,
              "ticks": ""
             }
            },
            "type": "scatterpolargl"
           }
          ],
          "scatterternary": [
           {
            "marker": {
             "colorbar": {
              "outlinewidth": 0,
              "ticks": ""
             }
            },
            "type": "scatterternary"
           }
          ],
          "surface": [
           {
            "colorbar": {
             "outlinewidth": 0,
             "ticks": ""
            },
            "colorscale": [
             [
              0,
              "#0d0887"
             ],
             [
              0.1111111111111111,
              "#46039f"
             ],
             [
              0.2222222222222222,
              "#7201a8"
             ],
             [
              0.3333333333333333,
              "#9c179e"
             ],
             [
              0.4444444444444444,
              "#bd3786"
             ],
             [
              0.5555555555555556,
              "#d8576b"
             ],
             [
              0.6666666666666666,
              "#ed7953"
             ],
             [
              0.7777777777777778,
              "#fb9f3a"
             ],
             [
              0.8888888888888888,
              "#fdca26"
             ],
             [
              1,
              "#f0f921"
             ]
            ],
            "type": "surface"
           }
          ],
          "table": [
           {
            "cells": {
             "fill": {
              "color": "#EBF0F8"
             },
             "line": {
              "color": "white"
             }
            },
            "header": {
             "fill": {
              "color": "#C8D4E3"
             },
             "line": {
              "color": "white"
             }
            },
            "type": "table"
           }
          ]
         },
         "layout": {
          "annotationdefaults": {
           "arrowcolor": "#2a3f5f",
           "arrowhead": 0,
           "arrowwidth": 1
          },
          "autotypenumbers": "strict",
          "coloraxis": {
           "colorbar": {
            "outlinewidth": 0,
            "ticks": ""
           }
          },
          "colorscale": {
           "diverging": [
            [
             0,
             "#8e0152"
            ],
            [
             0.1,
             "#c51b7d"
            ],
            [
             0.2,
             "#de77ae"
            ],
            [
             0.3,
             "#f1b6da"
            ],
            [
             0.4,
             "#fde0ef"
            ],
            [
             0.5,
             "#f7f7f7"
            ],
            [
             0.6,
             "#e6f5d0"
            ],
            [
             0.7,
             "#b8e186"
            ],
            [
             0.8,
             "#7fbc41"
            ],
            [
             0.9,
             "#4d9221"
            ],
            [
             1,
             "#276419"
            ]
           ],
           "sequential": [
            [
             0,
             "#0d0887"
            ],
            [
             0.1111111111111111,
             "#46039f"
            ],
            [
             0.2222222222222222,
             "#7201a8"
            ],
            [
             0.3333333333333333,
             "#9c179e"
            ],
            [
             0.4444444444444444,
             "#bd3786"
            ],
            [
             0.5555555555555556,
             "#d8576b"
            ],
            [
             0.6666666666666666,
             "#ed7953"
            ],
            [
             0.7777777777777778,
             "#fb9f3a"
            ],
            [
             0.8888888888888888,
             "#fdca26"
            ],
            [
             1,
             "#f0f921"
            ]
           ],
           "sequentialminus": [
            [
             0,
             "#0d0887"
            ],
            [
             0.1111111111111111,
             "#46039f"
            ],
            [
             0.2222222222222222,
             "#7201a8"
            ],
            [
             0.3333333333333333,
             "#9c179e"
            ],
            [
             0.4444444444444444,
             "#bd3786"
            ],
            [
             0.5555555555555556,
             "#d8576b"
            ],
            [
             0.6666666666666666,
             "#ed7953"
            ],
            [
             0.7777777777777778,
             "#fb9f3a"
            ],
            [
             0.8888888888888888,
             "#fdca26"
            ],
            [
             1,
             "#f0f921"
            ]
           ]
          },
          "colorway": [
           "#636efa",
           "#EF553B",
           "#00cc96",
           "#ab63fa",
           "#FFA15A",
           "#19d3f3",
           "#FF6692",
           "#B6E880",
           "#FF97FF",
           "#FECB52"
          ],
          "font": {
           "color": "#2a3f5f"
          },
          "geo": {
           "bgcolor": "white",
           "lakecolor": "white",
           "landcolor": "#E5ECF6",
           "showlakes": true,
           "showland": true,
           "subunitcolor": "white"
          },
          "hoverlabel": {
           "align": "left"
          },
          "hovermode": "closest",
          "mapbox": {
           "style": "light"
          },
          "paper_bgcolor": "white",
          "plot_bgcolor": "#E5ECF6",
          "polar": {
           "angularaxis": {
            "gridcolor": "white",
            "linecolor": "white",
            "ticks": ""
           },
           "bgcolor": "#E5ECF6",
           "radialaxis": {
            "gridcolor": "white",
            "linecolor": "white",
            "ticks": ""
           }
          },
          "scene": {
           "xaxis": {
            "backgroundcolor": "#E5ECF6",
            "gridcolor": "white",
            "gridwidth": 2,
            "linecolor": "white",
            "showbackground": true,
            "ticks": "",
            "zerolinecolor": "white"
           },
           "yaxis": {
            "backgroundcolor": "#E5ECF6",
            "gridcolor": "white",
            "gridwidth": 2,
            "linecolor": "white",
            "showbackground": true,
            "ticks": "",
            "zerolinecolor": "white"
           },
           "zaxis": {
            "backgroundcolor": "#E5ECF6",
            "gridcolor": "white",
            "gridwidth": 2,
            "linecolor": "white",
            "showbackground": true,
            "ticks": "",
            "zerolinecolor": "white"
           }
          },
          "shapedefaults": {
           "line": {
            "color": "#2a3f5f"
           }
          },
          "ternary": {
           "aaxis": {
            "gridcolor": "white",
            "linecolor": "white",
            "ticks": ""
           },
           "baxis": {
            "gridcolor": "white",
            "linecolor": "white",
            "ticks": ""
           },
           "bgcolor": "#E5ECF6",
           "caxis": {
            "gridcolor": "white",
            "linecolor": "white",
            "ticks": ""
           }
          },
          "title": {
           "x": 0.05
          },
          "xaxis": {
           "automargin": true,
           "gridcolor": "white",
           "linecolor": "white",
           "ticks": "",
           "title": {
            "standoff": 15
           },
           "zerolinecolor": "white",
           "zerolinewidth": 2
          },
          "yaxis": {
           "automargin": true,
           "gridcolor": "white",
           "linecolor": "white",
           "ticks": "",
           "title": {
            "standoff": 15
           },
           "zerolinecolor": "white",
           "zerolinewidth": 2
          }
         }
        },
        "title": {
         "text": "3D Scatter Plot of X_ECI_km, Y_ECI_km, Z_ECI_km"
        }
       }
      }
     },
     "metadata": {},
     "output_type": "display_data"
    }
   ],
   "source": [
    "# Plot every 1000th X_ECI_km, Y_ECI_km, Z_ECI_km in plotly 3D\n",
    "sampled_df = df.iloc[::1000]\n",
    "fig = go.Figure()\n",
    "fig.add_trace(go.Scatter3d(\n",
    "    x=sampled_df['X_eci'],\n",
    "    y=sampled_df['Y_eci'],\n",
    "    z=sampled_df['Z_eci'],\n",
    "    mode='markers',\n",
    "    marker=dict(size=4, color='blue')\n",
    "))\n",
    "\n",
    "fig.update_layout(\n",
    "    title='3D Scatter Plot of X_ECI_km, Y_ECI_km, Z_ECI_km',\n",
    "    scene=dict(\n",
    "        xaxis_title='X_eci',\n",
    "        yaxis_title='Y_eci',\n",
    "        zaxis_title='Z_eci'\n",
    "    )\n",
    ")\n",
    "\n",
    "fig.show()\n"
   ]
  },
  {
   "cell_type": "code",
   "execution_count": 74,
   "metadata": {},
   "outputs": [
    {
     "name": "stderr",
     "output_type": "stream",
     "text": [
      "Querying DTM2000 Density: 1037it [05:39,  3.05it/s]                          \n"
     ]
    },
    {
     "name": "stdout",
     "output_type": "stream",
     "text": [
      "Updated data with density saved to GRACE_density_feb_2022_dtm2000.csv\n"
     ]
    }
   ],
   "source": [
    "import pandas as pd\n",
    "import numpy as np\n",
    "from datetime import datetime, timedelta, timezone\n",
    "from astropy.time import Time\n",
    "from tqdm import tqdm\n",
    "\n",
    "def utc_to_mjd(utc_time: datetime) -> float:\n",
    "    if utc_time.microsecond >= 500000:\n",
    "        rounded_utc_time = utc_time + timedelta(seconds=1)\n",
    "        rounded_utc_time = rounded_utc_time.replace(microsecond=0)\n",
    "    else:\n",
    "        rounded_utc_time = utc_time.replace(microsecond=0)\n",
    "    \n",
    "    time = Time(utc_time, format='datetime', scale='utc', precision=8)\n",
    "    return time.mjd\n",
    "\n",
    "def query_dtm2000(position, datetime):\n",
    "    frame = FramesFactory.getEME2000()\n",
    "    wgs84Ellipsoid = ReferenceEllipsoid.getWgs84(FramesFactory.getITRF(IERSConventions.IERS_2010, True))\n",
    "    cssi_sw_data = CssiSpaceWeatherData(CssiSpaceWeatherData.DEFAULT_SUPPORTED_NAMES)\n",
    "    sun = CelestialBodyFactory.getSun()\n",
    "    atmosphere = DTM2000(cssi_sw_data, sun, wgs84Ellipsoid)\n",
    "    absolute_date = datetime_to_absolutedate(datetime)\n",
    "    position_vector = Vector3D(float(position[0]), float(position[1]), float(position[2]))\n",
    "    density = atmosphere.getDensity(absolute_date, position_vector, frame)\n",
    "    return density\n",
    "\n",
    "def add_dtm2000_density_to_csv(input_file, output_file):\n",
    "    df = pd.read_csv(input_file)\n",
    "    \n",
    "    densities = [None] * len(df)  # Preallocate list\n",
    "    \n",
    "    for i in tqdm(range(0, len(df), 50), total=len(df)//50, desc=\"Querying DTM2000 Density\"):\n",
    "        row = df.iloc[i]\n",
    "        densities[i] = query_dtm2000([row[\"X_eci\"], row[\"Y_eci\"], row[\"Z_eci\"]],datetime.strptime(row[\"UTC\"], \"%Y-%m-%d %H:%M:%S\"))\n",
    "    \n",
    "    # Forward-fill missing values\n",
    "    df[\"DTM2000_Density\"] = pd.Series(densities).ffill()\n",
    "\n",
    "    df.to_csv(output_file, index=False)\n",
    "    \n",
    "    print(f\"Updated data with density saved to {output_file}\")\n",
    "\n",
    "# Example usage\n",
    "add_dtm2000_density_to_csv(\"GRACE_density_feb_2022_eci.csv\", \"GRACE_density_feb_2022_dtm2000.csv\")\n"
   ]
  },
  {
   "cell_type": "code",
   "execution_count": 72,
   "metadata": {},
   "outputs": [
    {
     "data": {
      "image/png": "[encoded data removed]",
      "text/plain": [
       "<Figure size 1000x500 with 1 Axes>"
      ]
     },
     "metadata": {},
     "output_type": "display_data"
    }
   ],
   "source": [
    "import matplotlib.pyplot as plt\n",
    "\n",
    "def plot_linalg_norm(input_file):\n",
    "    df = pd.read_csv(input_file)\n",
    "\n",
    "    # Compute the linalg norm of the (X_eci, Y_eci, Z_eci) position vectors\n",
    "    df[\"Position_Norm\"] = np.linalg.norm(df[[\"X_eci\", \"Y_eci\", \"Z_eci\"]], axis=1)\n",
    "\n",
    "    # Convert UTC time to datetime\n",
    "    df[\"UTC\"] = pd.to_datetime(df[\"UTC\"])\n",
    "\n",
    "    # Plot\n",
    "    plt.figure(figsize=(10, 5))\n",
    "    plt.plot(df[\"UTC\"], df[\"Position_Norm\"], label=\"Linalg Norm of ECI Position\", color=\"b\")\n",
    "    \n",
    "    plt.xlabel(\"UTC Time\")\n",
    "    plt.ylabel(\"Linalg Norm (m)\")\n",
    "    plt.title(\"Linalg Norm of ECI Position Over Time\")\n",
    "    plt.legend()\n",
    "    plt.grid()\n",
    "\n",
    "    plt.show()\n",
    "\n",
    "plot_linalg_norm(\"GRACE_density_feb_2022_eci.csv\")"
   ]
  },
  {
   "cell_type": "code",
   "execution_count": null,
   "metadata": {},
   "outputs": [
    {
     "name": "stderr",
     "output_type": "stream",
     "text": [
      "Querying DTM2000 Density:   0%|          | 1/1036 [00:00<06:29,  2.66it/s]"
     ]
    },
    {
     "name": "stdout",
     "output_type": "stream",
     "text": [
      "2022-02-01 00:00:00 Density: 1.8329623748746782e-19 kg/m^3\n",
      "linalg norm of position: 528105207.7254815\n"
     ]
    },
    {
     "name": "stderr",
     "output_type": "stream",
     "text": [
      "Querying DTM2000 Density:   0%|          | 2/1036 [00:00<06:25,  2.68it/s]"
     ]
    },
    {
     "name": "stdout",
     "output_type": "stream",
     "text": [
      "2022-02-01 00:08:20 Density: 1.2408440685371137e-19 kg/m^3\n",
      "linalg norm of position: 515920013.7438373\n"
     ]
    },
    {
     "name": "stderr",
     "output_type": "stream",
     "text": [
      "Querying DTM2000 Density:   0%|          | 3/1036 [00:01<05:59,  2.87it/s]"
     ]
    },
    {
     "name": "stdout",
     "output_type": "stream",
     "text": [
      "2022-02-01 00:16:40 Density: 8.968465677824464e-20 kg/m^3\n",
      "linalg norm of position: 509113165.546513\n"
     ]
    },
    {
     "name": "stderr",
     "output_type": "stream",
     "text": [
      "Querying DTM2000 Density:   0%|          | 4/1036 [00:01<05:46,  2.98it/s]"
     ]
    },
    {
     "name": "stdout",
     "output_type": "stream",
     "text": [
      "2022-02-01 00:25:00 Density: 6.995638665381773e-20 kg/m^3\n",
      "linalg norm of position: 508365171.4741844\n"
     ]
    },
    {
     "name": "stderr",
     "output_type": "stream",
     "text": [
      "Querying DTM2000 Density:   0%|          | 5/1036 [00:01<05:43,  3.00it/s]"
     ]
    },
    {
     "name": "stdout",
     "output_type": "stream",
     "text": [
      "2022-02-01 00:33:20 Density: 7.535240955600666e-20 kg/m^3\n",
      "linalg norm of position: 506500262.62631214\n"
     ]
    },
    {
     "name": "stderr",
     "output_type": "stream",
     "text": [
      "Querying DTM2000 Density:   1%|          | 6/1036 [00:02<06:08,  2.80it/s]"
     ]
    },
    {
     "name": "stdout",
     "output_type": "stream",
     "text": [
      "2022-02-01 00:41:40 Density: 4.4919194171093927e-20 kg/m^3\n",
      "linalg norm of position: 498832163.9549383\n"
     ]
    },
    {
     "name": "stderr",
     "output_type": "stream",
     "text": [
      "Querying DTM2000 Density:   1%|          | 7/1036 [00:02<06:28,  2.65it/s]"
     ]
    },
    {
     "name": "stdout",
     "output_type": "stream",
     "text": [
      "2022-02-01 00:50:00 Density: 3.783692314635637e-20 kg/m^3\n",
      "linalg norm of position: 490443754.44149613\n"
     ]
    },
    {
     "name": "stderr",
     "output_type": "stream",
     "text": [
      "Querying DTM2000 Density:   1%|          | 8/1036 [00:02<06:12,  2.76it/s]"
     ]
    },
    {
     "name": "stdout",
     "output_type": "stream",
     "text": [
      "2022-02-01 00:58:20 Density: 5.598355951986572e-20 kg/m^3\n",
      "linalg norm of position: 491647973.55022055\n"
     ]
    },
    {
     "name": "stderr",
     "output_type": "stream",
     "text": [
      "Querying DTM2000 Density:   1%|          | 9/1036 [00:03<05:57,  2.87it/s]"
     ]
    },
    {
     "name": "stdout",
     "output_type": "stream",
     "text": [
      "2022-02-01 01:06:40 Density: 1.406576089214515e-19 kg/m^3\n",
      "linalg norm of position: 506162435.6197331\n"
     ]
    },
    {
     "name": "stderr",
     "output_type": "stream",
     "text": [
      "Querying DTM2000 Density:   1%|          | 10/1036 [00:03<05:47,  2.95it/s]"
     ]
    },
    {
     "name": "stdout",
     "output_type": "stream",
     "text": [
      "2022-02-01 01:15:00 Density: 2.816623716057933e-19 kg/m^3\n",
      "linalg norm of position: 525362864.7386278\n"
     ]
    },
    {
     "name": "stderr",
     "output_type": "stream",
     "text": [
      "Querying DTM2000 Density:   1%|          | 11/1036 [00:03<06:04,  2.81it/s]"
     ]
    },
    {
     "name": "stdout",
     "output_type": "stream",
     "text": [
      "2022-02-01 01:23:20 Density: 2.088063107001244e-19 kg/m^3\n",
      "linalg norm of position: 535866274.56619114\n"
     ]
    },
    {
     "name": "stderr",
     "output_type": "stream",
     "text": [
      "Querying DTM2000 Density:   1%|          | 12/1036 [00:04<06:03,  2.82it/s]"
     ]
    },
    {
     "name": "stdout",
     "output_type": "stream",
     "text": [
      "2022-02-01 01:31:40 Density: 1.7829085151700927e-19 kg/m^3\n",
      "linalg norm of position: 531932298.4122882\n"
     ]
    },
    {
     "name": "stderr",
     "output_type": "stream",
     "text": [
      "Querying DTM2000 Density:   1%|          | 12/1036 [00:04<06:35,  2.59it/s]\n"
     ]
    },
    {
     "ename": "KeyboardInterrupt",
     "evalue": "",
     "output_type": "error",
     "traceback": [
      "\u001b[0;31m---------------------------------------------------------------------------\u001b[0m\n",
      "\u001b[0;31mKeyboardInterrupt\u001b[0m                         Traceback (most recent call last)\n",
      "Cell \u001b[0;32mIn[66], line 47\u001b[0m\n",
      "\u001b[1;32m     44\u001b[0m     \u001b[38;5;28mprint\u001b[39m(\u001b[38;5;124mf\u001b[39m\u001b[38;5;124m\"\u001b[39m\u001b[38;5;124mUpdated data with density saved to \u001b[39m\u001b[38;5;132;01m{\u001b[39;00moutput_file\u001b[38;5;132;01m}\u001b[39;00m\u001b[38;5;124m\"\u001b[39m)\n",
      "\u001b[1;32m     46\u001b[0m \u001b[38;5;66;03m# Example usage\u001b[39;00m\n",
      "\u001b[0;32m---> 47\u001b[0m \u001b[43madd_dtm2000_density_to_csv\u001b[49m\u001b[43m(\u001b[49m\u001b[38;5;124;43m\"\u001b[39;49m\u001b[38;5;124;43mGRACE_density_feb_2022_eci.csv\u001b[39;49m\u001b[38;5;124;43m\"\u001b[39;49m\u001b[43m,\u001b[49m\u001b[43m \u001b[49m\u001b[38;5;124;43m\"\u001b[39;49m\u001b[38;5;124;43mGRACE_density_feb_2022_dtm2000.csv\u001b[39;49m\u001b[38;5;124;43m\"\u001b[39;49m\u001b[43m)\u001b[49m\n",
      "\n",
      "Cell \u001b[0;32mIn[66], line 35\u001b[0m, in \u001b[0;36madd_dtm2000_density_to_csv\u001b[0;34m(input_file, output_file)\u001b[0m\n",
      "\u001b[1;32m     33\u001b[0m \u001b[38;5;28;01mfor\u001b[39;00m i \u001b[38;5;129;01min\u001b[39;00m tqdm(\u001b[38;5;28mrange\u001b[39m(\u001b[38;5;241m0\u001b[39m, \u001b[38;5;28mlen\u001b[39m(df), \u001b[38;5;241m50\u001b[39m), total\u001b[38;5;241m=\u001b[39m\u001b[38;5;28mlen\u001b[39m(df)\u001b[38;5;241m/\u001b[39m\u001b[38;5;241m/\u001b[39m\u001b[38;5;241m50\u001b[39m, desc\u001b[38;5;241m=\u001b[39m\u001b[38;5;124m\"\u001b[39m\u001b[38;5;124mQuerying DTM2000 Density\u001b[39m\u001b[38;5;124m\"\u001b[39m):\n",
      "\u001b[1;32m     34\u001b[0m     row \u001b[38;5;241m=\u001b[39m df\u001b[38;5;241m.\u001b[39miloc[i]\n",
      "\u001b[0;32m---> 35\u001b[0m     densities[i] \u001b[38;5;241m=\u001b[39m \u001b[43mquery_dtm2000\u001b[49m\u001b[43m(\u001b[49m\u001b[43m[\u001b[49m\u001b[43mrow\u001b[49m\u001b[43m[\u001b[49m\u001b[38;5;124;43m\"\u001b[39;49m\u001b[38;5;124;43mX_eci\u001b[39;49m\u001b[38;5;124;43m\"\u001b[39;49m\u001b[43m]\u001b[49m\u001b[43m,\u001b[49m\u001b[43m \u001b[49m\u001b[43mrow\u001b[49m\u001b[43m[\u001b[49m\u001b[38;5;124;43m\"\u001b[39;49m\u001b[38;5;124;43mY_eci\u001b[39;49m\u001b[38;5;124;43m\"\u001b[39;49m\u001b[43m]\u001b[49m\u001b[43m,\u001b[49m\u001b[43m \u001b[49m\u001b[43mrow\u001b[49m\u001b[43m[\u001b[49m\u001b[38;5;124;43m\"\u001b[39;49m\u001b[38;5;124;43mZ_eci\u001b[39;49m\u001b[38;5;124;43m\"\u001b[39;49m\u001b[43m]\u001b[49m\u001b[43m]\u001b[49m\u001b[43m,\u001b[49m\u001b[43mdatetime\u001b[49m\u001b[38;5;241;43m.\u001b[39;49m\u001b[43mstrptime\u001b[49m\u001b[43m(\u001b[49m\u001b[43mrow\u001b[49m\u001b[43m[\u001b[49m\u001b[38;5;124;43m\"\u001b[39;49m\u001b[38;5;124;43mUTC\u001b[39;49m\u001b[38;5;124;43m\"\u001b[39;49m\u001b[43m]\u001b[49m\u001b[43m,\u001b[49m\u001b[43m \u001b[49m\u001b[38;5;124;43m\"\u001b[39;49m\u001b[38;5;124;43m%\u001b[39;49m\u001b[38;5;124;43mY-\u001b[39;49m\u001b[38;5;124;43m%\u001b[39;49m\u001b[38;5;124;43mm-\u001b[39;49m\u001b[38;5;132;43;01m%d\u001b[39;49;00m\u001b[38;5;124;43m \u001b[39;49m\u001b[38;5;124;43m%\u001b[39;49m\u001b[38;5;124;43mH:\u001b[39;49m\u001b[38;5;124;43m%\u001b[39;49m\u001b[38;5;124;43mM:\u001b[39;49m\u001b[38;5;124;43m%\u001b[39;49m\u001b[38;5;124;43mS\u001b[39;49m\u001b[38;5;124;43m\"\u001b[39;49m\u001b[43m)\u001b[49m\u001b[43m)\u001b[49m\n",
      "\u001b[1;32m     36\u001b[0m     \u001b[38;5;28mprint\u001b[39m(\u001b[38;5;124mf\u001b[39m\u001b[38;5;124m\"\u001b[39m\u001b[38;5;132;01m{\u001b[39;00mrow[\u001b[38;5;124m'\u001b[39m\u001b[38;5;124mUTC\u001b[39m\u001b[38;5;124m'\u001b[39m]\u001b[38;5;132;01m}\u001b[39;00m\u001b[38;5;124m Density: \u001b[39m\u001b[38;5;132;01m{\u001b[39;00mdensities[i]\u001b[38;5;132;01m}\u001b[39;00m\u001b[38;5;124m kg/m^3\u001b[39m\u001b[38;5;124m\"\u001b[39m)\n",
      "\u001b[1;32m     37\u001b[0m     \u001b[38;5;28mprint\u001b[39m(\u001b[38;5;124mf\u001b[39m\u001b[38;5;124m\"\u001b[39m\u001b[38;5;124mlinalg norm of position: \u001b[39m\u001b[38;5;132;01m{\u001b[39;00mnp\u001b[38;5;241m.\u001b[39mlinalg\u001b[38;5;241m.\u001b[39mnorm([row[\u001b[38;5;124m'\u001b[39m\u001b[38;5;124mX_eci\u001b[39m\u001b[38;5;124m'\u001b[39m],\u001b[38;5;250m \u001b[39mrow[\u001b[38;5;124m'\u001b[39m\u001b[38;5;124mY_eci\u001b[39m\u001b[38;5;124m'\u001b[39m],\u001b[38;5;250m \u001b[39mrow[\u001b[38;5;124m'\u001b[39m\u001b[38;5;124mZ_eci\u001b[39m\u001b[38;5;124m'\u001b[39m]])\u001b[38;5;132;01m}\u001b[39;00m\u001b[38;5;124m\"\u001b[39m)\n",
      "\n",
      "Cell \u001b[0;32mIn[66], line 20\u001b[0m, in \u001b[0;36mquery_dtm2000\u001b[0;34m(position, datetime)\u001b[0m\n",
      "\u001b[1;32m     18\u001b[0m frame \u001b[38;5;241m=\u001b[39m FramesFactory\u001b[38;5;241m.\u001b[39mgetEME2000()\n",
      "\u001b[1;32m     19\u001b[0m wgs84Ellipsoid \u001b[38;5;241m=\u001b[39m ReferenceEllipsoid\u001b[38;5;241m.\u001b[39mgetWgs84(FramesFactory\u001b[38;5;241m.\u001b[39mgetITRF(IERSConventions\u001b[38;5;241m.\u001b[39mIERS_2010, \u001b[38;5;28;01mTrue\u001b[39;00m))\n",
      "\u001b[0;32m---> 20\u001b[0m cssi_sw_data \u001b[38;5;241m=\u001b[39m \u001b[43mCssiSpaceWeatherData\u001b[49m\u001b[43m(\u001b[49m\u001b[43mCssiSpaceWeatherData\u001b[49m\u001b[38;5;241;43m.\u001b[39;49m\u001b[43mDEFAULT_SUPPORTED_NAMES\u001b[49m\u001b[43m)\u001b[49m\n",
      "\u001b[1;32m     21\u001b[0m sun \u001b[38;5;241m=\u001b[39m CelestialBodyFactory\u001b[38;5;241m.\u001b[39mgetSun()\n",
      "\u001b[1;32m     22\u001b[0m atmosphere \u001b[38;5;241m=\u001b[39m DTM2000(cssi_sw_data, sun, wgs84Ellipsoid)\n",
      "\n",
      "\u001b[0;31mKeyboardInterrupt\u001b[0m: "
     ]
    }
   ],
   "source": [
    "import pandas as pd\n",
    "import numpy as np\n",
    "from datetime import datetime, timedelta, timezone\n",
    "from astropy.time import Time\n",
    "from tqdm import tqdm\n",
    "\n",
    "def utc_to_mjd(utc_time: datetime) -> float:\n",
    "    if utc_time.microsecond >= 500000:\n",
    "        rounded_utc_time = utc_time + timedelta(seconds=1)\n",
    "        rounded_utc_time = rounded_utc_time.replace(microsecond=0)\n",
    "    else:\n",
    "        rounded_utc_time = utc_time.replace(microsecond=0)\n",
    "    \n",
    "    time = Time(utc_time, format='datetime', scale='utc', precision=8)\n",
    "    return time.mjd\n",
    "\n",
    "def query_dtm2000(position, datetime):\n",
    "    frame = FramesFactory.getEME2000()\n",
    "    wgs84Ellipsoid = ReferenceEllipsoid.getWgs84(FramesFactory.getITRF(IERSConventions.IERS_2010, True))\n",
    "    cssi_sw_data = CssiSpaceWeatherData(CssiSpaceWeatherData.DEFAULT_SUPPORTED_NAMES)\n",
    "    sun = CelestialBodyFactory.getSun()\n",
    "    atmosphere = DTM2000(cssi_sw_data, sun, wgs84Ellipsoid)\n",
    "    absolute_date = datetime_to_absolutedate(datetime)\n",
    "    position_vector = Vector3D(float(position[0]), float(position[1]), float(position[2]))\n",
    "    density = atmosphere.getDensity(absolute_date, position_vector, frame)\n",
    "    return density\n",
    "\n",
    "def add_dtm2000_density_to_csv(input_file, output_file):\n",
    "    df = pd.read_csv(input_file)\n",
    "    \n",
    "    densities = [None] * len(df)  # Preallocate list\n",
    "    \n",
    "    for i in tqdm(range(0, len(df), 50), total=len(df)//50, desc=\"Querying DTM2000 Density\"):\n",
    "        row = df.iloc[i]\n",
    "        densities[i] = query_dtm2000([row[\"X_eci\"], row[\"Y_eci\"], row[\"Z_eci\"]],datetime.strptime(row[\"UTC\"], \"%Y-%m-%d %H:%M:%S\"))\n",
    "        print(f\"{row['UTC']} Density: {densities[i]} kg/m^3\")\n",
    "        print(f\"linalg norm of position: {np.linalg.norm([row['X_eci'], row['Y_eci'], row['Z_eci']])}\")\n",
    "    \n",
    "    # Forward-fill missing values\n",
    "    df[\"DTM2000_Density\"] = pd.Series(densities).ffill()\n",
    "\n",
    "    df.to_csv(output_file, index=False)\n",
    "    \n",
    "    print(f\"Updated data with density saved to {output_file}\")\n",
    "\n",
    "# Example usage\n",
    "add_dtm2000_density_to_csv(\"GRACE_density_feb_2022_eci.csv\", \"GRACE_density_feb_2022_dtm2000.csv\")\n"
   ]
  },
  {
   "cell_type": "code",
   "execution_count": 78,
   "metadata": {},
   "outputs": [
    {
     "data": {
      "image/png": "[encoded data removed]",
      "text/plain": [
       "<Figure size 1000x500 with 1 Axes>"
      ]
     },
     "metadata": {},
     "output_type": "display_data"
    }
   ],
   "source": [
    "\n",
    "\n",
    "import pandas as pd\n",
    "import matplotlib.pyplot as plt\n",
    "\n",
    "# Load CSV file\n",
    "file_path = 'GRACE_density_feb_2022_dtm2000.csv'  # Replace with the actual file path\n",
    "df = pd.read_csv(file_path)\n",
    "\n",
    "# Convert UTC column to datetime\n",
    "df['UTC'] = pd.to_datetime(df['UTC'])\n",
    "\n",
    "# Plot dens_x and DTM2000_Density vs UTC\n",
    "plt.figure(figsize=(10, 5))\n",
    "plt.plot(df['UTC'], df['dens_x'], label='Accelerometer GRACE-FO', linestyle='-', marker='', alpha=0.8)\n",
    "plt.plot(df['UTC'], df['DTM2000_Density'], label='DTM2000 Density', linestyle='-', marker='', alpha=0.8)\n",
    "\n",
    "#force the y axis to go from to 1.2 e-12\n",
    "# plt.ylim(0, 1.2e-12) \n",
    "#force the x axis to start on the 01-02-2022 and end on the 07-02-2022\n",
    "plt.xlim(pd.Timestamp('2022-02-01'), pd.Timestamp('2022-02-07'))\n",
    "\n",
    "# Formatting\n",
    "plt.xlabel('UTC')\n",
    "plt.ylabel('Density')\n",
    "# plt.title('Density Comparison')\n",
    "plt.legend()\n",
    "plt.xticks(rotation=45)\n",
    "plt.grid(True)\n",
    "\n",
    "# Show plot\n",
    "plt.show()\n"
   ]
  },
  {
   "cell_type": "code",
   "execution_count": 31,
   "metadata": {},
   "outputs": [
    {
     "data": {
      "application/vnd.plotly.v1+json": {
       "config": {
        "plotlyServerURL": "https://plot.ly"
       },
       "data": [
        {
         "marker": {
          "color": "blue",
          "size": 1
         },
         "mode": "markers",
         "type": "scatter3d",
         "x": [
          -4597.347088232001,
          -4640.401876289181,
          -4682.791105301559,
          -4724.5492288042415,
          -4765.631017223361,
          -4806.0720677184745,
          -4845.868179648093,
          -4884.9730239250275,
          -4923.488931212744,
          -4961.280924021317,
          -4998.430672533814,
          -5034.894078102957,
          -5070.704979115539,
          -5105.795463624905,
          -5140.25147217526,
          -5173.979409490589,
          -5207.020943573303,
          -5239.42878614226,
          -5271.0871297603135,
          -5302.056201440049,
          -5332.2712318147405,
          -5361.835898949079,
          -5390.693789694851,
          -5418.842335400377,
          -5446.229576018875,
          -5472.901843645764,
          -5498.9071401383735,
          -5524.143147892937,
          -5548.657674704738,
          -5572.4402743890805,
          -5595.504542184033,
          -5617.830278374908,
          -5639.437165287027,
          -5660.299310331772,
          -5680.426642413047,
          -5699.817772038682,
          -5718.471401957919,
          -5736.386334410962,
          -5753.5614634908125,
          -5769.995782427072,
          -5785.663816630146,
          -5800.612424628484,
          -5814.762022414126,
          -5828.194297310514,
          -5840.935618096099,
          -5852.848310040342,
          -5864.038966657308,
          -5874.4813343059195,
          -5884.175270649394,
          -5893.120725982151,
          -5901.317743809598,
          -5908.766459714078,
          -5915.4671053643615,
          -5921.3613530028515,
          -5926.566691444364,
          -5931.025208604755,
          -5934.690406825679,
          -5937.655812996119,
          -5939.876471881196,
          -5941.302112804857,
          -5942.034650175431,
          -5941.97152696841,
          -5941.22017662097,
          -5939.733496851312,
          -5937.445631174428,
          -5934.477457582697,
          -5930.713730529612,
          -5926.274942242962,
          -5921.04061891785,
          -5915.137670702371,
          -5908.4410090522315,
          -5901.077043289253,
          -5892.924721546126,
          -5884.109451206277,
          -5874.509983268515,
          -5864.252235668835,
          -5853.214824375508,
          -5841.524113370011,
          -5829.120723423433,
          -5815.945161275902,
          -5802.124341294427,
          -5787.598975536125,
          -5772.371938821749,
          -5756.446190366061,
          -5739.824770028544,
          -5722.448637247546,
          -5704.50748575212,
          -5685.818110433229,
          -5666.446040501404,
          -5646.394720651824,
          -5625.667678776538,
          -5604.268518973352,
          -5582.26276543139,
          -5559.530424694517,
          -5536.198917145252,
          -5512.24153303267,
          -5487.539348767817,
          -5462.249650126586,
          -5436.31498979358,
          -5409.739570357392,
          -5382.527669059884,
          -5354.683638135398,
          -5326.310927022251,
          -5297.2168241879845,
          -5267.564382346275,
          -5237.338929985438,
          -5206.463443127394,
          -5174.983056228451,
          -5142.946869020514,
          -5110.272231311098,
          -5077.112646444544,
          -5043.263424574671,
          -5008.940812451778,
          -4974.044728974266,
          -4938.53049513513,
          -4902.560047638069,
          -4865.973919037333,
          -4828.892788484223,
          -4791.210830069683,
          -4753.039686346388,
          -4714.388617775982,
          -4675.150384912395,
          -4635.442928359532,
          -4595.328830912125,
          -4554.588176590351,
          -4513.3940160706115,
          -4471.696987541737,
          -4429.503067218201,
          -4386.933686600862,
          -4343.817600965275,
          -4300.28564221923,
          -4256.269907294775,
          -4211.851443071004,
          -4167.024326547821,
          -4121.675998927791,
          -4075.945302182852,
          -4029.822796666018,
          -3983.2639772199977,
          -3936.324420305559,
          -3888.960606347924,
          -3841.22722414566,
          -3793.0817693183217,
          -3744.578009807821,
          -3695.721100227468,
          -3646.543770582237,
          -3596.951648371553,
          -3546.9778927793113,
          -3496.79388342191,
          -3446.164739688594,
          -3395.292495549964,
          -3344.0639309525664,
          -3292.4923629131963,
          -3240.6950867373585,
          -3188.5587891584855,
          -3136.1713388106505,
          -3083.496269806323,
          -3030.5387547152145,
          -2977.303964305911,
          -2923.8350446551153,
          -2870.097917057814,
          -2816.0977278144987,
          -2761.959145264705,
          -2707.5188815920237,
          -2652.8630427091257,
          -2598.0796496810226,
          -2543.0543867278825,
          -2487.771814434964,
          -2432.3720953197744,
          -2376.8040454455745,
          -2320.981254059625,
          -2265.078357937162,
          -2208.98009302253,
          -2152.774500501122,
          -2096.4023335330457,
          -2039.8910024928557,
          -1983.3545325067532,
          -1926.5844184957043,
          -1869.717337124078,
          -1812.8374570672456,
          -1755.7568473088452,
          -1698.6954303838045,
          -1641.437280693746,
          -1584.1981531791344,
          -1526.8923756948857,
          -1469.5225236333572,
          -1412.1063265552186,
          -1354.7311114208892,
          -1297.216745895979,
          -1239.7516847319268,
          -1182.1562757369766,
          -1124.7435618209047,
          -1067.1994609410976,
          -1009.7306581994008,
          -952.2492955095304,
          -894.7510626402529,
          -837.3240764143836,
          -779.9747451421154,
          -722.5956619481216,
          -665.3625804542949,
          -608.0619406459363,
          -550.9366501082494,
          -493.94100127934945,
          -436.95380424278767,
          -379.9896068080833,
          -323.2226835901878,
          -266.5721713840652,
          -210.03105893896927,
          -153.5735389148355,
          -97.27680500297356,
          -41.10447869089179,
          14.92245076278996,
          70.78513877975873,
          126.5005349249885,
          182.0342413104657,
          237.4449042638378,
          292.62662084985993,
          347.5936563651353,
          402.45455522853285,
          457.00081074156674,
          511.43364053154033,
          565.6143277195264,
          619.5660481060565,
          673.296833340077,
          726.8211879498223,
          780.0544769622142,
          833.0813466913522,
          885.8218275648263,
          938.2845942102188,
          990.5242281672718,
          1042.476039172128,
          1094.1853564370674,
          1145.5392341835045,
          1196.6379956216551,
          1247.4458685726734,
          1297.9197056220337,
          1348.0684039950097,
          1397.881600830954,
          1447.4570853043724,
          1496.6129829344989,
          1545.4736268239883,
          1594.0257194323842,
          1642.1864287000883,
          1689.9951523242462,
          1737.4654706968263,
          1784.5865599412273,
          1831.2923587774671,
          1877.681375414052,
          1923.699586619092,
          1969.2226080614137,
          2014.4576920211864,
          2059.2415222614636,
          2103.6390789523225,
          2147.63977492917,
          2191.3037164008097,
          2234.435615033334,
          2277.251418208965,
          2319.5138715370467,
          2361.4407073103175,
          2402.954941013709,
          2444.001669431999,
          2484.5710937910467,
          2524.7028921402225,
          2564.3900830289313,
          2603.6257793297764,
          2642.4031881435462,
          2680.7269751395497,
          2718.566377729883,
          2755.9361697484705,
          2792.8738941610586,
          2829.3195934628384,
          2865.2670487305495,
          2900.710145593771,
          2935.701486156101,
          2970.178179613052,
          3004.134415020688,
          3037.6223500708775,
          3070.581828745393,
          3103.124774179671,
          3135.0076458730514,
          3166.527674709595,
          3197.4329699792033,
          3227.913250166948,
          3257.7687140528096,
          3287.193859495555,
          3316.052491579313,
          3344.3908616078324,
          3372.17127932305,
          3399.4925924724935,
          3426.182087733358,
          3452.405301197788,
          3478.0634970837914,
          3503.1770235442664,
          3527.767623934676,
          3551.833542244586,
          3575.3731030862054,
          3598.3090379333867,
          3620.756903417152,
          3642.629084900033,
          3663.8901129560695,
          3684.6554787494706,
          3704.842454506088,
          3724.529972978669,
          3743.638578754631,
          3762.163554310371,
          3780.1447191970697,
          3797.581326940964,
          3814.43782478316,
          3830.784191930034,
          3846.5007106274625,
          3861.753452515427,
          3876.4061737812463,
          3890.477964107407,
          3904.0011362919986,
          3916.975585250095,
          3929.3431160707814,
          3941.218819358125,
          3952.458362320648,
          3963.1746315862497,
          3973.4035601237656,
          3983.0202015718496,
          3992.08702342944,
          4000.4919683320986,
          4008.46118531177,
          4015.8823701492247,
          4022.644924203588,
          4028.972763647326,
          4034.663253303232,
          4039.9004950830463,
          4044.484593338043,
          4048.5433855858864,
          4052.153300458161,
          4055.12967360981,
          4057.5666342182553,
          4059.46558289606,
          4060.827990332296,
          4061.655392124369,
          4061.8545578735702,
          4061.606804511668,
          4060.8396543642025,
          4059.544325039411,
          4057.722685369743,
          4055.280720264362,
          4052.41213784288,
          4049.023250426245,
          4045.019708271244,
          4040.593107399749,
          4035.560194790239,
          4030.1125077837487,
          4024.1557936050663,
          4017.595375396555,
          4010.6284152940425,
          4003.062897219343,
          3995.0956924783914,
          3986.53770832457,
          3977.5815319485114,
          3968.1390567617073,
          3958.1076418577086,
          3947.694701611772,
          3936.794683285971,
          3925.3256683364793,
          3913.479823559608,
          3901.153883996168,
          3888.368068850079,
          3875.02018365105,
          3861.30816004083,
          3847.13798907097,
          3832.5130632601777,
          3817.436829878765,
          3801.926766096332,
          3785.959172592893,
          3769.5509134322374,
          3752.721737554377,
          3735.539950222855,
          3717.849784296915,
          3699.7170370160543,
          3681.276690184699,
          3662.4191915141055,
          3643.053422572126,
          3623.3735936349663,
          3603.288434961271,
          3582.80197525257,
          3561.9182882241553,
          3540.664987040479,
          3518.9998864830854,
          3496.974811736337,
          3474.6631135159005,
          3451.8574588586603,
          3428.7984453640256,
          3405.37237844752,
          3381.583619899154,
          3357.465044789751,
          3332.9647447560365,
          3308.2049377703406,
          3283.040214369619,
          3257.6253115813156,
          3231.8435045826664,
          3205.7615994564,
          3179.353384114403,
          3152.710548275385,
          3125.696810633889,
          3098.423716538398,
          3070.876732349801,
          3043.0766389539667,
          3014.927756291652,
          2986.569426108682,
          2957.921521026089,
          2929.0714761729405,
          2899.858316213121,
          2870.4898057631253,
          2840.812123085034,
          2810.9873419484557,
          2780.8609435027565,
          2750.5168218804033,
          2719.9206598152823,
          2689.154870338477,
          2658.187151061222,
          2627.0158729221453,
          2595.6520841191705,
          2564.090967295067,
          2532.3467229408875,
          2500.3819182726206,
          2468.273928274268,
          2435.953889368161,
          2403.542530185989,
          2370.9531373595155,
          2338.2092788524733,
          2305.293449264945,
          2272.232323359792,
          2239.05202138641,
          2205.755059105309,
          2172.326308263076,
          2138.8046142930307,
          2105.1583749599413,
          2071.3590671177444,
          2037.5056761626113,
          2003.49163196432,
          1969.4414829103,
          1935.2958467244653,
          1901.0568960464225,
          1866.8341612424992,
          1832.4143040681197,
          1798.013503217804,
          1763.5263483111437,
          1729.0080121227647,
          1694.4574944309434,
          1659.8224426979484,
          1625.1549418494722,
          1590.5063548407736,
          1555.7704878985526,
          1521.051383153138,
          1486.3412652437585,
          1451.5903118330125,
          1416.8411120509206,
          1382.0888765233783,
          1347.3708201857398,
          1312.5966872654549,
          1277.9393350739474,
          1243.2939433669346,
          1208.6519984709682,
          1174.0416469456811,
          1139.4865856824838,
          1104.9368217296262,
          1070.4470837338847,
          1036.0549129317692,
          1001.6596143504383,
          967.382057950694,
          933.1685952913272,
          899.0751186722428,
          865.0069203226869,
          831.006781366305,
          797.1140458103154,
          763.3402009515753,
          729.7022057966304,
          696.0763746762628,
          662.6227790169282,
          629.2384745045716,
          596.0331361913087,
          562.9034572456476,
          529.9485715984488,
          497.05464896299947,
          464.39071137523786,
          431.7918580005236,
          399.37117522414815,
          367.1198486808454,
          334.9742573126227,
          302.9984942522785,
          271.2223905832641,
          239.6055368767119,
          208.10063595391904,
          176.8161565771861,
          145.79554041749267,
          114.80777074387336,
          84.07135884071214,
          53.59357406804689,
          23.227606227165086,
          -6.903256140657264,
          -36.83221763341207,
          -66.55787234384351,
          -96.07790512929924,
          -125.3807943829339,
          -154.45916706541,
          -183.33186247413823,
          -211.9739143761253,
          -240.37566991538708,
          -268.5585500518258,
          -296.50187256125616,
          -324.21072747168296,
          -351.67048597203035,
          -378.9030598427308,
          -405.867002372437,
          -432.57082769442206,
          -459.0442533075409,
          -485.2706877274438,
          -511.2124586109641,
          -536.8982309562813,
          -562.324497422536,
          -587.4757432027843,
          -612.3739456146175,
          -636.9653977014805,
          -661.3059328025109,
          -685.3599496464823,
          -709.1285441241926,
          -732.6537872844281,
          -755.8744089687823,
          -778.7980900229023,
          -801.4079135727537,
          -823.7549220798394,
          -845.8265717617329,
          -867.6062164997605,
          -889.0314892440966,
          -910.223580236874,
          -931.0768469158082,
          -951.6588018011312,
          -971.888046909474,
          -991.8721216270442,
          -1011.4815002517602,
          -1030.8252624985676,
          -1049.8277886099363,
          -1068.546919216138,
          -1086.9408358879211,
          -1105.0011748496456,
          -1122.7790283353304,
          -1140.209101911373,
          -1157.3762503155915,
          -1174.212738824939,
          -1190.7127599103285,
          -1206.8714909437172,
          -1222.7457399013936,
          -1238.2706048588932,
          -1253.501808889084,
          -1268.3361947331011,
          -1282.906459751135,
          -1297.2117296290428,
          -1311.1354629845036,
          -1324.6871632380105,
          -1337.9655977577588,
          -1350.9223655777323,
          -1363.4994000715712,
          -1375.824061785106,
          -1387.7910057067138,
          -1399.4757992851146,
          -1410.798449111578,
          -1421.755929915801,
          -1432.4268991177532,
          -1442.7287982774485,
          -1452.766173361096,
          -1462.4909597456451,
          -1471.86548160232,
          -1480.840619923032,
          -1489.6337833582388,
          -1497.9613749693744,
          -1506.0845539519005,
          -1513.827350949171,
          -1521.2780610277816,
          -1528.3666504979644,
          -1535.141815417292,
          -1541.6251455403024,
          -1547.836768286412,
          -1553.6630597336634,
          -1559.1789819695416,
          -1564.4230924460282,
          -1569.3773568839565,
          -1573.9455375376926,
          -1578.2416390689878,
          -1582.2322094442673,
          -1585.8365604124529,
          -1589.269989690148,
          -1592.3020406454757,
          -1595.0650460986683,
          -1597.544450815279,
          -1599.7417234525108,
          -1601.555079380251,
          -1603.1920630229288,
          -1604.4470946996234,
          -1605.4251565542795,
          -1606.127976489841,
          -1606.5695687195864,
          -1606.6201165190796,
          -1606.5186128046678,
          -1606.0295099814816,
          -1605.3925602716956,
          -1604.3820872359215,
          -1603.1079860458908,
          -1601.5723588014728,
          -1599.777347103162,
          -1597.7251308059588,
          -1595.3068038229958,
          -1592.7547396890131,
          -1589.8316710087895,
          -1586.7720632000169,
          -1583.3612762903638,
          -1579.7057643270966,
          -1575.9148685909372,
          -1571.7780630272243,
          -1567.4040680544142,
          -1562.7954679323382,
          -1557.9548800316484,
          -1552.8849540158974,
          -1547.5883703544464,
          -1542.0678413143175,
          -1536.2103991573929,
          -1530.2500127365756,
          -1524.0740103395915,
          -1517.6882076334286,
          -1510.9726664203088,
          -1504.1664338250878,
          -1497.041322553433,
          -1489.8293618687078,
          -1482.4206761690157,
          -1474.6989965933776,
          -1466.9007638475807,
          -1458.796621433641,
          -1450.6231397297645,
          -1442.1486011712727,
          -1433.6113983655994,
          -1424.779375888518,
          -1415.8907678495789,
          -1406.7136902329094,
          -1397.4877668125805,
          -1387.9787978975396,
          -1378.4260883744937,
          -1368.5980124485984,
          -1358.732642255197,
          -1348.7158360457013,
          -1338.433823166467,
          -1328.1241912256098,
          -1317.6730891382044,
          -1306.967210098714,
          -1296.243389747505,
          -1285.3881934606627,
          -1274.4050062841295,
          -1263.2972256131495,
          -1252.0682598306776,
          -1240.721527885547,
          -1229.2604585033796,
          -1217.6832137564866,
          -1206.003594578721,
          -1194.2199823065805,
          -1182.4498377924403,
          -1170.4683070228616,
          -1158.5065050550722,
          -1146.3473167008876,
          -1134.2078461605868,
          -1121.9844487975342,
          -1109.568760391408,
          -1097.1882843805508,
          -1084.734263581873,
          -1072.2101595590416,
          -1059.7295153001226,
          -1047.082883187444,
          -1034.478101517164,
          -1021.7074479878414,
          -1008.992120388187,
          -996.2346886490252,
          -983.4221458793952,
          -970.5660526543992,
          -957.678480878922,
          -944.851010256371,
          -931.8931493209666,
          -919.0007412883818,
          -906.0896648322712,
          -893.154366083171,
          -880.2911387990229,
          -867.3166333843507,
          -854.4288250048952,
          -841.5287072384465,
          -828.6195433766586,
          -815.7936860528032,
          -802.8753848945505,
          -790.0551746751703,
          -777.247372052989,
          -764.5311413895639,
          -751.8221203594283,
          -739.1234252672319,
          -726.4381600330132,
          -713.8724796798176,
          -701.3145066193322,
          -688.7775213076528,
          -676.3652619627993,
          -663.9783851843935,
          -651.609290900134,
          -639.3696240735762,
          -627.1623450830556,
          -615.0655610136683,
          -603.0156667173504,
          -591.0889064694126,
          -579.2021330778596,
          -567.4402658400717,
          -555.7219189383296,
          -544.1300314373192,
          -532.6643284455557,
          -521.2569425831322,
          -509.88880362234744,
          -498.7258973204598,
          -487.62485608115014,
          -476.6407350050432,
          -465.7945249454249,
          -454.99154783592235,
          -444.39815979697266,
          -433.8592143383146,
          -423.5150270476243,
          -413.28251373654894,
          -403.1153459863958,
          -393.1363431316101,
          -383.276257923485,
          -373.5337481004742,
          -363.9806912713605,
          -354.5905769858409,
          -345.3090613441721,
          -336.1344916585027,
          -327.13387542708915,
          -318.3370864179191,
          -309.64573337530425,
          -301.1450572457403,
          -292.7943715853599,
          -284.5771959091522,
          -276.52778719687285,
          -268.6583829679848,
          -260.9970371416613,
          -253.48318582084693,
          -246.1070083663119,
          -238.94817811592551,
          -231.90213574600068,
          -225.09679595645983,
          -218.44754064121943,
          -211.98736121299635,
          -205.70576602554613,
          -199.5956632466117,
          -193.68994984192656,
          -187.98233494925924,
          -182.4389999667746,
          -177.12275811540522,
          -171.9569008303422,
          -166.98847501015996,
          -162.2204632381352,
          -157.6581616833008,
          -153.29699560430956,
          -149.12891748703143,
          -145.1532511633334,
          -141.38464519673258,
          -137.78897163867322,
          -134.43239705278432,
          -131.25953057843196,
          -128.2800042764648,
          -125.525098928376,
          -122.97324073523876,
          -120.60825534537908,
          -118.47889373692132,
          -116.5535420654822,
          -114.81054905960372,
          -113.27064839158938,
          -111.95607842604834,
          -110.88263135630658,
          -109.95160205977608,
          -109.23594620825791,
          -108.80790823661704,
          -108.47547971213892,
          -108.42544081457972,
          -108.59520619629556,
          -108.946196770065,
          -109.49410761364317,
          -110.25584796443091,
          -111.24733668414072,
          -112.44030298389154,
          -113.83469792709528,
          -115.42726009737456,
          -117.2532079203274,
          -119.24300505546152,
          -121.46384085506097,
          -123.89619546595485,
          -126.53179841202171,
          -129.3650385042106,
          -132.41216977839514,
          -135.64839841111558,
          -139.06513802996272,
          -142.7060301721854,
          -146.56776112408932,
          -150.58306981141598,
          -154.8413642761389,
          -159.2431399817816,
          -163.86938968820877,
          -168.6996281942953,
          -173.71453961062826,
          -178.93094136974378,
          -184.32786064684345,
          -189.88395951540676,
          -195.65401575594177,
          -201.62682664838744,
          -207.74395811428712,
          -214.06667213326728,
          -220.57200496213173,
          -227.23189562649603,
          -234.1173220371149,
          -241.12887845229423,
          -248.34622487724607,
          -255.7220028946921,
          -263.2658767612106,
          -270.98738530992296,
          -278.8418078610564,
          -286.8902005439473,
          -295.08525103326104,
          -303.4426257432,
          -311.9475085081838,
          -320.6254970135471,
          -329.4615462347223,
          -338.41886838271955,
          -347.55228357348625,
          -356.8022828190894,
          -366.2358874799973,
          -375.7911777930682,
          -385.4694797844298,
          -395.2822506528729,
          -405.2102785526481,
          -415.2750822953839,
          -425.4572821029826,
          -435.8512915111361,
          -446.302773599764,
          -456.8094380698719,
          -467.5211675863759,
          -478.28746140210586,
          -489.1840091009927,
          -500.2113403751051,
          -511.3000445742607,
          -522.5082207146469,
          -533.8565596329703,
          -545.252185925625,
          -556.7661678082812,
          -568.3341244082482,
          -580.028870339113,
          -591.763792530308,
          -603.5361089129103,
          -615.4313696298397,
          -627.4593278876059,
          -639.4195696792509,
          -651.5992852081107,
          -663.705508771021,
          -675.9376642276255,
          -688.182192534744,
          -700.5498015473469,
          -712.9350581311467,
          -725.3348818322609,
          -737.7461795435788,
          -750.2630796123219,
          -762.7867016062869,
          -775.3231938989798,
          -787.9500776838421,
          -800.5755458641378,
          -813.1046577057784,
          -825.8182787886325,
          -838.4288671129585,
          -851.1276156241765,
          -863.6976537824846,
          -876.3593341123774,
          -888.9977608998968,
          -901.714803155104,
          -914.2972800764252,
          -926.9528100055666,
          -939.5727904641436,
          -952.1538230255449,
          -964.7003025656622,
          -977.1930995934042,
          -989.6367308849456,
          -1002.1372466768104,
          -1014.4800388843732,
          -1026.866409465665,
          -1039.1977946421423,
          -1051.4566786463377,
          -1063.653359893422,
          -1075.7774222092637,
          -1087.8190899759977,
          -1099.7877119135724,
          -1111.7865302823427,
          -1123.5802854936876,
          -1135.4039811853515,
          -1147.0208236071524,
          -1158.6553576196386,
          -1170.18521204321,
          -1181.502220320269,
          -1192.8274487441888,
          -1204.0427089353536,
          -1215.1445635763523,
          -1226.1295844477202,
          -1236.994353383285,
          -1247.851786950563,
          -1258.4626205093198,
          -1268.9466123587358,
          -1279.296780907705,
          -1289.5097669738186,
          -1299.6992388955266,
          -1309.62793154886,
          -1319.4094338717075,
          -1329.1576959173028,
          -1338.633493213513,
          -1348.0713071692478,
          -1357.2314976977325,
          -1366.2281325741387,
          -1375.1748985561103,
          -1383.835039992317,
          -1392.4393191154095,
          -1400.7503031455467,
          -1408.8817452574383,
          -1416.947705779459,
          -1424.7120190783712,
          -1432.4050403458632,
          -1439.788071317055,
          -1446.9783491884343,
          -1454.085495700577,
          -1460.877888588573,
          -1467.467135966937,
          -1473.9662340959162,
          -1480.140270238384,
          -1486.1024932550265,
          -1491.8500734221152,
          -1497.3802098446236,
          -1502.690131055498,
          -1507.7770951775988,
          -1512.6383902933412,
          -1517.2771364243406,
          -1521.6794120278848,
          -1525.854533783055,
          -1529.674545031381,
          -1533.3760933927258,
          -1536.725029737935,
          -1539.9433512390244,
          -1542.796816818859,
          -1545.5303488388406,
          -1547.8951226189258,
          -1550.0082267465325,
          -1551.867406074906,
          -1553.4803259869582,
          -1554.82539624768,
          -1555.8126008125666,
          -1556.635525250854,
          -1557.098195443966,
          -1557.4024520917349,
          -1557.3329837839804,
          -1556.994847788176,
          -1556.3861904349842,
          -1555.5183119257472,
          -1554.2600761509154,
          -1552.843986912295,
          -1551.0346658930318,
          -1548.9620774775285,
          -1546.6108266188603,
          -1543.9794056925143,
          -1541.0663516166392,
          -1537.7873714570933,
          -1534.2096900751274,
          -1530.347704673315,
          -1526.217344318918,
          -1521.7049325283758,
          -1516.9068756584486,
          -1511.822110886928,
          -1506.449623309047,
          -1500.7884463660905,
          -1494.7454566706176,
          -1488.4333715676637,
          -1481.7417848465238,
          -1474.831451317912,
          -1467.4730754626723,
          -1459.9152067288956,
          -1451.9802946037098,
          -1443.7787832889064,
          -1435.2666462693646,
          -1426.4032425217183,
          -1417.1458678219103,
          -1407.625599502795,
          -1397.819560173764,
          -1387.6466692355143,
          -1377.1897051648227,
          -1366.3944658080604,
          -1355.292630810643,
          -1343.8572607503995,
          -1332.0406592177983,
          -1319.9727815191711,
          -1307.554146712131,
          -1294.7881402275232,
          -1281.7778082087668,
          -1268.3982006837205,
          -1254.679936058199
         ],
         "y": [
          2223.9440447179513,
          2251.2821820164613,
          2278.5210316301027,
          2305.5758775189315,
          2332.5252187561505,
          2359.2828441979773,
          2385.8441827940537,
          2412.2898372712048,
          2438.5640175488024,
          2464.5966571270187,
          2490.535067380451,
          2516.137177242693,
          2541.6364701637267,
          2566.9985495553437,
          2592.04147718416,
          2616.939390857861,
          2641.5987774505675,
          2666.0439135597007,
          2690.212410241307,
          2714.2493268292133,
          2738.0027393166893,
          2761.5234368890196,
          2784.779186587554,
          2807.7656176466467,
          2830.5733654474707,
          2853.104071789763,
          2875.2575128666836,
          2897.220752697582,
          2918.8940807281897,
          2940.3934053775424,
          2961.4741253585585,
          2982.3722030131685,
          3002.843556812641,
          3023.123686878061,
          3043.0885687969408,
          3062.7341100456265,
          3082.0562505555877,
          3101.050967279841,
          3119.7142707568782,
          3138.042209721075,
          3156.1487716959573,
          3173.7939609165,
          3191.19357368357,
          3208.258081411129,
          3224.865365942045,
          3241.201180121553,
          3257.1888306018745,
          3272.8099676487104,
          3288.0609382915327,
          3302.9381308451275,
          3317.4379759225676,
          3331.556946495079,
          3345.2915608494304,
          3358.741700723203,
          3371.6974226015063,
          3384.2585924129826,
          3396.5327381503084,
          3408.294352894404,
          3419.6516263711055,
          3430.710414359062,
          3441.2489263343223,
          3451.4814592962616,
          3461.1888714483493,
          3470.4792819942427,
          3479.449353120038,
          3487.887533513613,
          3496.001586668637,
          3503.579596162419,
          3510.825753583615,
          3517.531924246728,
          3523.900076700009,
          3529.7219097033494,
          3535.2010147365063,
          3540.1290598703163,
          3544.709187694927,
          3548.733786252406,
          3552.405450741772,
          3555.5173918427645,
          3558.169799500058,
          3560.4620848330596,
          3562.188885729611,
          3563.44995774674,
          3564.243356937431,
          3564.567199792368,
          3564.419661638379,
          3563.898890529223,
          3562.7034478393844,
          3561.13142691396,
          3559.0813358551327,
          3556.5516557802134,
          3553.5409325036608,
          3550.0477728511855,
          3545.9733710958285,
          3541.511812664062,
          3536.4673588811825,
          3530.9560849156937,
          3525.0341122176715,
          3518.527344289231,
          3511.531137078608,
          3504.044653524343,
          3496.0671226849618,
          3487.5978406492004,
          3478.5678869067674,
          3469.114488907934,
          3459.075638984337,
          3448.5708683108455,
          3437.546763655455,
          3426.029247436361,
          3414.047177013417,
          3401.543048447663,
          3388.4869259532807,
          3374.99656710525,
          3360.956942448761,
          3346.426457153045,
          3331.3720604573,
          3315.774341816074,
          3299.773048738283,
          3283.197996626084,
          3266.0993024376908,
          3248.5491446421915,
          3230.4304443141755,
          3211.9094383941515,
          3192.8229286342676,
          3173.2135150874687,
          3153.1651164289933,
          3132.557829044802,
          3111.473172244227,
          3089.9124274501587,
          3067.843210631593,
          3045.2599194332493,
          3022.250615263918,
          2998.654625020832,
          2974.638751855932,
          2950.0876427527355,
          2925.030694328476,
          2899.562923924274,
          2873.5696523115944,
          2847.125036234006,
          2820.1624119332378,
          2792.7545035341063,
          2764.836468864737,
          2736.4795677510506,
          2707.620806653834,
          2678.2653109951057,
          2648.535131929604,
          2618.2646210851713,
          2587.573700550716,
          2556.397712738581,
          2524.7565275526604,
          2492.703933902337,
          2460.2494822818785,
          2427.2241591018665,
          2393.806858673442,
          2360.0030378801393,
          2325.7063911208297,
          2290.979937314063,
          2255.830080082012,
          2220.263315998542,
          2184.235046584694,
          2147.8050136555144,
          2110.9799992591597,
          2073.7805643491074,
          2036.092861268635,
          1997.9883922669655,
          1959.540572664038,
          1920.7415350888816,
          1881.4471748647932,
          1841.8413674383676,
          1801.8290322010607,
          1761.3581542392849,
          1720.5727185385365,
          1679.4600379978194,
          1637.917666542985,
          1596.038853789044,
          1553.8017674858418,
          1511.2560592237758,
          1468.3210365969408,
          1425.0154518077384,
          1381.4308481925912,
          1337.4544314876234,
          1293.1867820751947,
          1248.5492668284066,
          1203.6505706927626,
          1158.428124913096,
          1112.892207165231,
          1067.03245982902,
          1020.9399917591592,
          974.4791183648292,
          927.8000317175214,
          880.7628330889072,
          833.547156960004,
          785.9936507871424,
          738.2264736297416,
          690.170336300598,
          641.8324821045622,
          593.2915606047918,
          544.5298448800623,
          495.4745255850469,
          446.260013726446,
          396.7220207210546,
          347.05946607952234,
          297.2008639267654,
          247.1001233525639,
          196.77127212994057,
          146.301770826972,
          95.6523183032016,
          44.81538372580848,
          -6.198108898140519,
          -57.3752751613943,
          -108.71162073212685,
          -160.21341606552843,
          -211.78722371844776,
          -263.55967713216273,
          -315.4344908080605,
          -367.5179656300757,
          -419.6411205305517,
          -471.823119993254,
          -524.2439397849901,
          -576.6135467934273,
          -629.1721219023118,
          -681.7816210472201,
          -734.4600280562017,
          -787.2229211032278,
          -840.0707879880498,
          -892.9257764712048,
          -945.8734099938756,
          -998.82453157979,
          -1051.76784574172,
          -1104.8060867703953,
          -1157.832033594972,
          -1210.9535791228388,
          -1263.949165197029,
          -1317.0323837626074,
          -1370.0684266948745,
          -1423.085422319426,
          -1476.0646364450968,
          -1529.0043600211834,
          -1581.9589977575722,
          -1634.7728748904665,
          -1687.6295444583002,
          -1740.3753046689587,
          -1793.073404545631,
          -1845.6764275756748,
          -1898.160290234384,
          -1950.6727007642507,
          -2002.961620120952,
          -2055.2246858075446,
          -2107.3493631711135,
          -2159.289758752087,
          -2211.1407856468836,
          -2262.890977759165,
          -2314.470027163247,
          -2365.875971032895,
          -2417.185474093461,
          -2468.277534844202,
          -2519.2300394414447,
          -2569.9632092749457,
          -2620.550057024967,
          -2670.9083372635273,
          -2721.0760689867134,
          -2771.0509073132043,
          -2820.786553058801,
          -2870.278469759253,
          -2919.522113812761,
          -2968.5129327403174,
          -3017.365848052075,
          -3065.837447726724,
          -3114.162205364444,
          -3162.167413983337,
          -3209.8957408119672,
          -3257.342556237652,
          -3304.5032223431663,
          -3351.322006908591,
          -3397.844135312038,
          -3444.0649700115973,
          -3490.046914930651,
          -3535.597145627744,
          -3580.842747171753,
          -3625.754341591433,
          -3670.294481478009,
          -3714.556455891121,
          -3758.368633616659,
          -3801.893375105819,
          -3844.955897164292,
          -3887.664002474547,
          -3930.073448147544,
          -3971.999475244011,
          -4013.556020867465,
          -4054.6782054345554,
          -4095.4184143732273,
          -4135.655109423894,
          -4175.55756008127,
          -4215.002340744866,
          -4253.983647106869,
          -4292.495732521855,
          -4330.59559193776,
          -4368.267702257763,
          -4405.401625797789,
          -4442.108462235117,
          -4478.3691837339375,
          -4514.0783624636815,
          -4549.328892486159,
          -4584.0187852158115,
          -4618.303267322078,
          -4652.064269256968,
          -4685.296583208988,
          -4717.951462679662,
          -4750.111916124981,
          -4781.795493677526,
          -4812.863420957071,
          -4843.485185682127,
          -4873.507902378129,
          -4902.96772630201,
          -4931.859933477304,
          -4960.284741618488,
          -4988.027093809977,
          -5015.256957639734,
          -5041.934900620727,
          -5067.919176221787,
          -5093.409962813829,
          -5118.300317761869,
          -5142.626066456366,
          -5166.304072867202,
          -5189.369183448933,
          -5211.860767858142,
          -5233.689227807691,
          -5254.963334055208,
          -5275.538653996305,
          -5295.529488590307,
          -5314.90836732792,
          -5333.577222522715,
          -5351.67382599277,
          -5369.124109987311,
          -5385.924694152272,
          -5402.072276300216,
          -5417.563626555588,
          -5432.466457157053,
          -5446.62242543206,
          -5460.127516741235,
          -5472.964227180654,
          -5485.129715017357,
          -5496.6919753804805,
          -5507.506757966382,
          -5517.642254482449,
          -5527.166525700672,
          -5535.9308007579,
          -5544.085018661222,
          -5551.479804170592,
          -5558.183463532163,
          -5564.263996083108,
          -5569.579301861693,
          -5574.26800842568,
          -5578.187582636093,
          -5581.479368287206,
          -5583.996317439686,
          -5585.814727768073,
          -5586.991797235988,
          -5587.400238515745,
          -5587.09323091101,
          -5586.154926725219,
          -5584.438954880252,
          -5582.000658457756,
          -5578.862469780719,
          -5575.079932520231,
          -5570.516631561261,
          -5565.239696292323,
          -5559.248448822433,
          -5552.542302641484,
          -5545.14069021673,
          -5537.004427468973,
          -5528.152030118697,
          -5518.606476233427,
          -5508.257045603922,
          -5497.281994267605,
          -5485.566122867919,
          -5473.09711351639,
          -5459.914755735528,
          -5446.083024355616,
          -5431.474700508869,
          -5416.154275307608,
          -5400.122350030647,
          -5383.379617745536,
          -5365.961979839627,
          -5347.801152666708,
          -5328.969401946745,
          -5309.371943269008,
          -5289.09239257018,
          -5268.088646066395,
          -5246.384465389022,
          -5223.981298355408,
          -5200.92427466094,
          -5177.128896138266,
          -5152.58159816271,
          -5127.447018261059,
          -5101.567207131773,
          -5074.953251076977,
          -5047.703769654778,
          -5019.773229510946,
          -4991.108797247369,
          -4961.876430831407,
          -4931.864177393976,
          -4901.23642014254,
          -4869.833958320161,
          -4837.87716612522,
          -4805.208121533548,
          -4771.88302777058,
          -4737.853708641749,
          -4703.2263265783,
          -4667.963816693414,
          -4631.998432348989,
          -4595.408684127703,
          -4558.122205368176,
          -4520.270676512493,
          -4481.794278409093,
          -4442.649760778359,
          -4402.957357612835,
          -4362.539668907691,
          -4321.585107585687,
          -4279.913958417824,
          -4237.71732179902,
          -4194.929623570441,
          -4151.512105723874,
          -4107.513691483158,
          -4062.972093419828,
          -4017.744296734963,
          -3972.028960540824,
          -3925.637821512128,
          -3878.771899597307,
          -3831.320240133043,
          -3783.2897757390383,
          -3734.806438521364,
          -3685.639748172173,
          -3636.034898232642,
          -3585.797178465002,
          -3535.099435094068,
          -3483.9019426267764,
          -3432.1413929791415,
          -3379.8611858530057,
          -3327.0690765837403,
          -3273.827535429341,
          -3220.0365209469446,
          -3165.8145568083537,
          -3111.115094055794,
          -3055.91592850511,
          -3000.227110482361,
          -2944.0879364129632,
          -2887.4782630590694,
          -2830.500862078655,
          -2772.9817680425244,
          -2715.1169368255128,
          -2656.7982751853033,
          -2598.063720477985,
          -2538.8990149282945,
          -2479.316720103452,
          -2419.3057584631592,
          -2358.9268837546133,
          -2298.220735081012,
          -2237.1294294546965,
          -2175.6676776014574,
          -2113.8295707937723,
          -2051.6116874329596,
          -1989.0520782087583,
          -1926.1297932061032,
          -1862.9653217287232,
          -1799.3619758001546,
          -1735.5253774882815,
          -1671.3634025039437,
          -1606.9875116708424,
          -1542.1932359838002,
          -1477.0986062187758,
          -1411.8250662082726,
          -1346.2393493228278,
          -1280.4753633352395,
          -1214.33918303138,
          -1148.0168194019504,
          -1081.4365386229188,
          -1014.6746288144984,
          -947.655446724292,
          -880.4562052841271,
          -813.000617623162,
          -745.4530194011655,
          -677.6128007221199,
          -609.657670638025,
          -541.5365193129692,
          -473.20005111235946,
          -404.7432555456083,
          -336.17122619412385,
          -267.46675452577426,
          -198.5746502186504,
          -129.61939163117185,
          -60.59156013493752,
          8.580919473359442,
          77.80268392399839,
          147.2104190437879,
          216.51736206161473,
          286.0585941936088,
          355.51664395040723,
          425.0710400588788,
          494.66656532480954,
          564.3414761468158,
          633.9506055611934,
          703.6182547795438,
          773.3048645245093,
          842.9377928209223,
          912.5415384786046,
          982.140219256178,
          1051.7432631053514,
          1121.2359823184072,
          1190.7379022993323,
          1260.136228039196,
          1329.4256907319134,
          1398.7165995543892,
          1467.8843377188148,
          1536.934744669796,
          1605.8517767562907,
          1674.7521048133533,
          1743.3867771205328,
          1811.9860484942676,
          1880.4362717998176,
          1948.7104256559528,
          2016.811550712221,
          2084.730447168932,
          2152.5644458530505,
          2220.083894470936,
          2287.517302787812,
          2354.622027465313,
          2421.6100839126484,
          2488.357138429556,
          2554.8595989899504,
          2621.1291428972545,
          2687.1161629281705,
          2752.8468150970143,
          2818.4043871333397,
          2883.57653274388,
          2948.5475830968207,
          3013.123717802725,
          3077.4863325623037,
          3141.4263889200115,
          3205.139743021649,
          3268.519132735212,
          3331.5585216431487,
          3394.2324701675034,
          3456.5537251706687,
          3518.593137556454,
          3580.1493441054527,
          3641.429137320983,
          3702.21385284324,
          3762.6870242807545,
          3822.652810247559,
          3882.29200592466,
          3941.525621641279,
          4000.303247353492,
          4058.617392737667,
          4116.595763969845,
          4174.02927691566,
          4230.978619051847,
          4287.547275480504,
          4343.553199315826,
          4399.139917568094,
          4454.237006639194,
          4508.813769785253,
          4562.887666261611,
          4616.45235140107,
          4669.4766815212,
          4721.9788658805655,
          4774.007170974718,
          4825.394676462273,
          4876.318727504419,
          4926.616659645132,
          4976.385526681414,
          5025.618593297179,
          5074.231966599706,
          5122.271497488987,
          5169.704982952179,
          5216.623999418634,
          5262.852878880164,
          5308.457794311521,
          5353.501013751476,
          5397.9335038412655,
          5441.656601369213,
          5484.797895946186,
          5527.284635303179,
          5569.138647106298,
          5610.389236235989,
          5650.906118093907,
          5690.774565729159,
          5729.993029555887,
          5768.49309697343,
          5806.358462578876,
          5843.525471086353,
          5879.989251525074,
          5915.772869198616,
          5950.815968363811,
          5985.169662347787,
          6018.801577862771,
          6051.7072820703,
          6083.929870694487,
          6115.397003885092,
          6146.142323092811,
          6176.126266104541,
          6205.377984926565,
          6233.904345413238,
          6261.673584076413,
          6288.681976643777,
          6314.925894349478,
          6340.401801457315,
          6365.134029967774,
          6389.097965441188,
          6412.2759870316395,
          6434.645061980895,
          6456.288067912939,
          6477.1412356420615,
          6497.146073036496,
          6516.412297355983,
          6534.8803024109375,
          6552.547484126164,
          6569.411337329381,
          6585.469454991739,
          6600.719524570628,
          6615.159334859339,
          6628.813547361377,
          6641.626488090932,
          6653.623113988083,
          6664.8158465318775,
          6675.199542735405,
          6684.735290325102,
          6693.4845215429405,
          6701.371401723291,
          6708.440318642269,
          6714.705374563601,
          6720.108623248062,
          6724.712087243148,
          6728.457261776389,
          6731.392736246949,
          6733.47126345588,
          6734.739756436798,
          6735.147785873337,
          6734.744497412593,
          6733.485435674106,
          6731.4103053487315,
          6728.474188939574,
          6724.725358014842,
          6720.115901027556,
          6714.670057812316,
          6708.4114843915395,
          6701.29359833861,
          6693.340432308133,
          6684.57540462097,
          6674.95331140808,
          6664.497955317221,
          6653.210209385441,
          6641.091050670574,
          6628.141556402548,
          6614.362904977692,
          6599.756375019787,
          6584.29621943269,
          6568.036903658068,
          6550.954159109439,
          6533.028974724008,
          6514.304737957571,
          6494.742149521025,
          6474.418719813673,
          6453.2279539805395,
          6431.225813976253,
          6408.434040646859,
          6384.815931405422,
          6360.393640920755,
          6335.169771517988,
          6309.128440773285,
          6282.354514627716,
          6254.725814741724,
          6226.325308002145,
          6197.120030076126,
          6167.180870441784,
          6136.413266469092,
          6104.868955965673,
          6072.604569246375,
          6039.502057399614,
          6005.705961923128,
          5971.077325720506,
          5935.748776165577,
          5899.668819279399,
          5862.765934628931,
          5825.194601571816,
          5786.869385034564,
          5747.810149476271,
          5708.021372423015,
          5667.427487364095,
          5626.192565128589,
          5584.228199551802,
          5541.622693459278,
          5498.2304677479215,
          5454.138479325731,
          5409.351877899068,
          5363.875906539082,
          5317.777698581642,
          5270.92796545155,
          5223.4055837937485,
          5175.281706622779,
          5126.498961511158,
          5076.983609344415,
          5026.8882209934245,
          4976.151983433317,
          4924.68757292026,
          4872.6764014986165,
          4820.032709444313,
          4766.773697630385,
          4712.895677596566,
          4658.415607270901,
          4603.33037152729,
          4547.647212266575,
          4491.472619655925,
          4434.634490282356,
          4377.210940848511,
          4319.319993263477,
          4260.7760272107,
          4201.77256554341,
          4142.137955457936,
          4082.0527523769047,
          4021.446717224769,
          3960.31206870441,
          3898.566563318614,
          3836.4211043646383,
          3773.771765038063,
          3710.634140003493,
          3647.0164787646127,
          3583.02241766468,
          3518.4577512381125,
          3453.4387873060723,
          3387.974000649142,
          3322.170615722722,
          3255.8233422513317,
          3189.162803268313,
          3121.975570585423,
          3054.4889692979204,
          2986.60627043564,
          2918.2233330201307,
          2849.565861405476,
          2780.5310422575535,
          2711.133623975557,
          2641.383339638153,
          2571.2811668613385,
          2500.8461754472796,
          2430.1877027344117,
          2359.097192090697,
          2287.692772241084,
          2216.0986808329094,
          2144.095876425598,
          2071.919055690347,
          1999.4628963523169,
          1926.7392328820013,
          1853.749960763263,
          1780.5110460181052,
          1707.0255667957786,
          1633.300780144711,
          1559.461236532547,
          1485.396856403861,
          1411.1146406642931,
          1336.6200327980846,
          1262.0348223391595,
          1187.128034639515,
          1112.2509688375908,
          1037.1707643521709,
          961.8813515758206,
          886.4888323405271,
          811.1010085399447,
          735.4511834635811,
          659.8506713581677,
          584.111673222284,
          508.2423128069113,
          432.27917089546173,
          356.3380660397131,
          280.4218909776719,
          204.31487376448183,
          128.23210234240662,
          52.18783761400288,
          -23.90240708283318,
          -99.98230295341986,
          -176.0813016244739,
          -252.14083412935875,
          -328.1272144549623,
          -404.0798098419983,
          -480.02451117254094,
          -555.9182028347939,
          -631.752891204859,
          -707.4212458713429,
          -783.1206449741504,
          -858.5490576898635,
          -933.968914646296,
          -1009.2814444795335,
          -1084.4986827747753,
          -1159.5070730046025,
          -1234.4261275231468,
          -1309.1385798469105,
          -1383.6427773655105,
          -1458.0481728342036,
          -1532.231407557536,
          -1606.1935827436612,
          -1680.0361245794606,
          -1753.5272365279193,
          -1826.8854101718343,
          -1899.9877401278443,
          -1972.8280576618545,
          -2045.5118238883977,
          -2117.801668334273,
          -2189.921181657118,
          -2261.7413949233587,
          -2333.254703581407,
          -2404.4577607715187,
          -2475.3361909091973,
          -2545.883337536978,
          -2616.092997692718,
          -2686.060905933853,
          -2755.5648465961467,
          -2824.810219770756,
          -2893.6815987752047,
          -2962.16935631419,
          -3030.263893618594,
          -3097.9607223837834,
          -3165.2454898693563,
          -3232.1140499413227,
          -3298.662079521234,
          -3364.6704510065197,
          -3430.338967169189,
          -3495.4512369999816,
          -3560.210564646121,
          -3624.498888396869,
          -3688.31382543314,
          -3751.640496599627,
          -3814.476949668038,
          -3876.815020506,
          -3938.74413545695,
          -4000.060421389761,
          -4060.950146416729,
          -4121.21272704354,
          -4181.023561526574,
          -4240.294334282656,
          -4299.017857527343,
          -4357.170328909485,
          -4414.7606761368625,
          -4471.773225373944,
          -4528.200542563939,
          -4584.132573275507,
          -4639.375994470367,
          -4694.099070763768,
          -4748.216132010458,
          -4801.626324502534,
          -4854.502659956027,
          -4906.743107386208,
          -4958.3513344250905,
          -5009.321204414624,
          -5059.6357685875855,
          -5109.367044151041,
          -5158.372986899017,
          -5206.770005266411,
          -5254.432246257784,
          -5301.482893606209,
          -5347.7779820169635,
          -5393.447605847758,
          -5438.423904070577,
          -5482.701633593291,
          -5526.2756464423255,
          -5569.127655052727,
          -5611.265506773378,
          -5652.750159690023,
          -5693.430208464351,
          -5733.381368119259,
          -5772.675832317646,
          -5811.1401401073335,
          -5848.936613359957,
          -5885.9692137068505,
          -5922.205643846839,
          -5957.728476139588,
          -5992.489689295242,
          -6026.469533133676,
          -6059.695692205888,
          -6092.132547246632,
          -6123.7923491837555,
          -6154.671600050309,
          -6184.815218478702,
          -6214.122056183131,
          -6242.638443122734,
          -6270.3436982137055,
          -6297.313200947994,
          -6323.420595927489,
          -6348.76627134747,
          -6373.264402239144,
          -6396.993031699682,
          -6419.908711680376,
          -6441.973107843074,
          -6463.257052912117,
          -6483.701680156078,
          -6503.311497707287,
          -6522.110912072931,
          -6540.104179808286,
          -6557.249548155655,
          -6573.538179936866,
          -6589.044512372776,
          -6603.697590267863,
          -6617.516509740083,
          -6630.499989936903,
          -6642.646849670021,
          -6653.956009307123,
          -6664.40467652376,
          -6674.018726486934,
          -6682.810443100902,
          -6690.761157531304,
          -6697.870295266473,
          -6704.11467570964,
          -6709.539169108252,
          -6714.120971348025,
          -6717.836695602275,
          -6720.726267547161,
          -6722.756974903274,
          -6723.9682911751825,
          -6724.33706955584,
          -6723.838590546276,
          -6722.524542044045,
          -6720.344954345454,
          -6717.35177425576,
          -6713.517158003889,
          -6708.818777419717,
          -6703.313632572307,
          -6696.949020209273,
          -6689.766547270238,
          -6681.760005072038,
          -6672.8853622170045,
          -6663.217225322606,
          -6652.721231436438,
          -6641.373311181195,
          -6629.226456772774,
          -6616.256906083321,
          -6602.466572983641,
          -6587.857470814002,
          -6572.4317122484645,
          -6556.191507243318,
          -6539.139161962379,
          -6521.303062755548,
          -6502.635009716552,
          -6483.190810178685,
          -6462.944071999633,
          -6441.902594950855,
          -6420.094094355824,
          -6397.4680931644925,
          -6374.046530502309,
          -6349.882959760215,
          -6324.930339338632,
          -6299.199847044788,
          -6272.694924124278,
          -6245.459863444871,
          -6217.417990353426,
          -6188.6827869518875,
          -6159.118866602711,
          -6128.871731004347,
          -6097.848076075695,
          -6066.106138485622,
          -6033.623007472904,
          -6000.402941532965,
          -5966.501606577329,
          -5931.848978578964,
          -5896.499288693513,
          -5860.405111455839,
          -5823.652422102722,
          -5786.192409754383,
          -5748.02994139719,
          -5709.169971619709,
          -5669.704488177745,
          -5629.492406515382,
          -5588.598077513707,
          -5547.09024765128,
          -5504.9393864833255,
          -5462.124350542596,
          -5418.650660644022,
          -5374.5239236856905,
          -5329.749832184368,
          -5284.360101539766,
          -5238.405088476163,
          -5191.847764689363,
          -5144.569948715932,
          -5096.798736763099,
          -5048.391871529012,
          -4999.406334740161,
          -4949.899436327291,
          -4899.725527312527,
          -4849.069650423261,
          -4797.782082552099,
          -4746.0020956592525,
          -4693.657972398167,
          -4640.780452032138,
          -4587.351904949558,
          -4533.4865203759555,
          -4479.000636125645,
          -4424.092700028272,
          -4368.59920004553,
          -4312.675338471848,
          -4256.265488355794,
          -4199.37617848912,
          -4142.081245889228,
          -4084.231834004368,
          -4025.923256059635
         ],
         "z": [
          -4625.295212142675,
          -4568.718653600426,
          -4511.593607678477,
          -4453.927082640917,
          -4395.726519503648,
          -4336.99903678034,
          -4277.751997770297,
          -4217.993013739724,
          -4157.633845877173,
          -4096.87226717917,
          -4035.524257476936,
          -3973.79042641822,
          -3911.483968793093,
          -3848.7097181791473,
          -3785.475071786632,
          -3721.7882919657886,
          -3657.657069079429,
          -3592.987203084081,
          -3527.9902850287435,
          -3462.469621127942,
          -3396.6393748807277,
          -3330.3000707843457,
          -3263.56337132768,
          -3196.437498307313,
          -3128.930931539689,
          -3061.051748155214,
          -2992.8080553888067,
          -2924.2086630231383,
          -2855.2617464354184,
          -2785.866565356438,
          -2716.2494035815903,
          -2646.1999182737695,
          -2575.946529022158,
          -2505.2769289319085,
          -2434.30992948935,
          -2363.054174927818,
          -2291.518333519808,
          -2219.711099814049,
          -2147.6411906694525,
          -2075.317347314515,
          -2002.6341952986163,
          -1929.8284221574008,
          -1856.7953168044096,
          -1783.4280224029706,
          -1709.8499258897348,
          -1636.1864949465862,
          -1562.214535650157,
          -1488.058753301466,
          -1413.728097398783,
          -1339.231531342904,
          -1264.5780318414695,
          -1189.7765879045744,
          -1114.8362008871134,
          -1039.7661276266924,
          -964.5748998154204,
          -889.271793119983,
          -813.7474792820987,
          -738.2475964386831,
          -662.6629883833359,
          -586.8839582328268,
          -511.1569823716182,
          -435.25354411126426,
          -359.4205319179533,
          -283.4288404696745,
          -207.4070304674978,
          -131.4831222282815,
          -55.42795771430854,
          20.63047245744028,
          96.68255106373933,
          172.60028858258713,
          248.6128527655196,
          324.5922319984641,
          400.52882206875387,
          476.4140176472514,
          552.2382262177117,
          627.9928545308335,
          703.6683253280205,
          779.2560603570533,
          854.746747855207,
          930.13108671652,
          1005.4005274460108,
          1080.545791221426,
          1155.55785852383,
          1230.427723350935,
          1305.1463933668165,
          1379.7046474283104,
          1454.0942551101248,
          1528.3055395413155,
          1602.3298163830348,
          1676.1581750881544,
          1749.7817249221405,
          1823.191593867749,
          1896.3791704299383,
          1969.3351456927423,
          2042.051189878624,
          2114.4046696282235,
          2186.6142194387644,
          2258.5575700879463,
          2330.225774048853,
          2401.6101484237556,
          2472.7020373283704,
          2543.4928130698145,
          2613.8636671033655,
          2684.0269582096835,
          2753.863674520871,
          2823.2562006551875,
          2892.4143708745614,
          2961.22033352873,
          3029.5584848297435,
          3097.635442322277,
          3165.229309441054,
          3232.543987163344,
          3299.36027395844,
          3365.775782918699,
          3431.8858640069425,
          3497.4749989718753,
          3562.6388391186324,
          3627.3698026693346,
          3691.760464411065,
          3755.600674157109,
          3818.984222437728,
          3881.902862993217,
          3944.349229593975,
          4006.218516833833,
          4067.697546812894,
          4128.681261461356,
          4189.16188089431,
          4249.131878712785,
          4308.490901562873,
          4367.41832485052,
          4425.721487067468,
          4483.57693651329,
          4540.795308875106,
          4597.461042483609,
          4653.65477198685,
          4709.192739199045,
          4764.15696073759,
          4818.540349351099,
          4872.3362407838695,
          4925.537683508992,
          4978.138139728602,
          5030.130795732749,
          5081.509247034975,
          5132.266986546358,
          5182.318963995155,
          5231.816882879723,
          5280.67484804798,
          5328.8115497011995,
          5376.37238310682,
          5423.201662349262,
          5469.368684864558,
          5514.939104761957,
          5559.763421524114,
          5603.908055039037,
          5647.367647423803,
          5690.136484588464,
          5732.209081738875,
          5773.580035957534,
          5814.244162544616,
          5854.196092552005,
          5893.430677546047,
          5931.882800851637,
          5969.669001042033,
          6006.723063661409,
          6042.983473106372,
          6078.504459492418,
          6113.336032161644,
          6147.3636450579315,
          6180.638543087472,
          6213.207196782288,
          6244.962579101509,
          6275.9524479465035,
          6306.173066181041,
          6335.620284828485,
          6364.290352781119,
          6392.136123349652,
          6419.242050344974,
          6445.560031682027,
          6471.0468464389,
          6495.779882155174,
          6519.677787208502,
          6542.8130438093385,
          6565.109526567589,
          6586.601571669413,
          6607.28637452963,
          6627.161286784025,
          6646.194088672507,
          6664.44278347196,
          6681.847089791914,
          6698.460082153034,
          6714.202533318586,
          6729.149450958173,
          6743.251397988686,
          6756.531003294461,
          6768.98653915816,
          6780.59846427186,
          6791.369245296953,
          6801.3167097975265,
          6810.411593565025,
          6818.685956498979,
          6826.104562689194,
          6832.678242967067,
          6838.4177413548505,
          6843.318881199885,
          6847.369007138459,
          6850.575090823006,
          6852.937489587933,
          6854.456214212633,
          6855.128991876446,
          6854.956665142787,
          6853.938569997131,
          6852.077247409855,
          6849.369252970813,
          6845.8180177396725,
          6841.416637798643,
          6836.176545580808,
          6830.098411079289,
          6823.163739743514,
          6815.4053054558135,
          6806.791935894151,
          6797.344003793623,
          6787.058847429436,
          6775.933939846806,
          6763.966836997444,
          6751.175951115894,
          6737.5409942789165,
          6723.083191855158,
          6707.804458126804,
          6691.681011129678,
          6674.738265213585,
          6656.9501001040235,
          6638.374423787972,
          6618.955636251212,
          6598.724680119941,
          6577.68437049997,
          6555.83747708104,
          6533.186931251448,
          6509.698275258837,
          6485.44823800657,
          6460.364060671283,
          6434.486285936764,
          6407.818575996095,
          6380.36434292776,
          6352.127175678939,
          6323.064940883553,
          6293.2722044869515,
          6262.659620658134,
          6231.277266625029,
          6199.180370041979,
          6166.272284472402,
          6132.607336007967,
          6098.189754981391,
          6063.024082175726,
          6027.058086406042,
          5990.4091768551625,
          5952.9670495359205,
          5914.854068134273,
          5875.955477295699,
          5836.335551375483,
          5795.999603691479,
          5754.9529089762855,
          5713.200685313328,
          5670.748365991227,
          5627.601469104687,
          5583.765593234615,
          5539.176275093339,
          5493.978498834362,
          5448.036770534899,
          5401.427021408379,
          5354.1554238798935,
          5306.228074760212,
          5257.651146436195,
          5208.430720381639,
          5158.573276632209,
          5108.085205067669,
          5056.892443495961,
          5005.161430011433,
          4952.736760318035,
          4899.789409263336,
          4846.159742865276,
          4791.93757945619,
          4737.129270200424,
          4681.742319242325,
          4625.783193330917,
          4569.259342543928,
          4512.088161844189,
          4454.455296667167,
          4396.187663753841,
          4337.474860249281,
          4278.140316384239,
          4218.376905089305,
          4158.005247138221,
          4097.125843599004,
          4035.7463122645536,
          3973.874324669367,
          3911.5178090944937,
          3848.585726667902,
          3785.2823714329775,
          3721.517962376901,
          3657.1994361262455,
          3592.5355883785373,
          3527.3322154025946,
          3461.800985832112,
          3395.745267322045,
          3329.2751581838775,
          3262.398865347434,
          3195.2300128090515,
          3127.5667431348875,
          3059.522363826327,
          2991.1047818216166,
          2922.215125849795,
          2853.0764923153574,
          2783.590190707978,
          2713.764717323716,
          2643.4989769956787,
          2573.0202818598077,
          2502.228345996969,
          2431.0202349939336,
          2359.6265405044437,
          2287.833340220968,
          2215.7604618704468,
          2143.5299937773316,
          2070.924499970527,
          1998.065698651567,
          1925.076925216974,
          1851.7384235475563,
          1778.173440635129,
          1704.390394947487,
          1630.5143206556609,
          1556.3229962114078,
          1481.940433980512,
          1407.3761122496242,
          1332.6387843702269,
          1257.7374664371175,
          1182.6811904768606,
          1107.479002182761,
          1032.1402127607896,
          956.7912523017268,
          881.2059161488226,
          805.510967570785,
          729.7155137000111,
          653.8289242629895,
          577.8598200626614,
          501.8175880069384,
          425.7116236340699,
          349.6694459008084,
          273.4630253566801,
          197.21981502935245,
          120.94923339128808,
          44.66070312113059,
          -31.5180698000984,
          -107.81549847779252,
          -184.10387726017248,
          -260.2545543912486,
          -336.49685059651586,
          -412.5834840486998,
          -488.7428009200784,
          -564.7285577303788,
          -640.7687742206022,
          -716.6168433581014,
          -792.3828190041434,
          -868.1754680606964,
          -943.7492527243884,
          -1019.2131095048424,
          -1094.5584505179677,
          -1169.7759416618692,
          -1244.8565092990812,
          -1319.7910905577078,
          -1394.4539884315293,
          -1469.0697207403225,
          -1543.5123589914342,
          -1617.6570952106356,
          -1691.7270735833986,
          -1765.4815678284044,
          -1839.1425057669449,
          -1912.4712353813525,
          -1985.5737722512931,
          -2058.4409980697387,
          -2131.0645414306464,
          -2203.435322180054,
          -2275.5445243324243,
          -2347.383353591571,
          -2418.831444953973,
          -2490.103702027728,
          -2560.9687055516665,
          -2631.5296265766165,
          -2701.887017132328,
          -2771.8129149149354,
          -2841.4086676238226,
          -2910.6657280583486,
          -2979.4680793072,
          -3048.0228057339673,
          -3116.2136214598004,
          -3183.925904688379,
          -3251.2586862178987,
          -3318.307936513618,
          -3384.8557179194368,
          -3450.998923441886,
          -3516.729567851763,
          -3581.9371574401944,
          -3646.818466679065,
          -3711.1621270388778,
          -3775.1620244145583,
          -3838.609463453975,
          -3901.597450280232,
          -3964.117897072708,
          -4026.1631820600983,
          -4087.725107692469,
          -4148.70108631741,
          -4209.274552958433,
          -4269.2483602199445,
          -4328.802864203922,
          -4387.74405292175,
          -4446.1581430739925,
          -4504.037938676025,
          -4561.286455562405,
          -4618.076387939838,
          -4674.222312541925,
          -4729.893535263865,
          -4784.908300419814,
          -4839.347291599466,
          -4893.203740570685,
          -4946.470581760234,
          -4999.059020003884,
          -5051.127554329316,
          -5102.505999858327,
          -5153.3493245954105,
          -5203.491361748047,
          -5253.006043225246,
          -5301.8869791296465,
          -5350.052466477389,
          -5397.648057303733,
          -5444.517860595853,
          -5490.803302851263,
          -5536.353107913343,
          -5581.234367122066,
          -5625.441539929333,
          -5668.968712027189,
          -5711.81020050039,
          -5753.894890486068,
          -5795.3493920414885,
          -5836.038359781565,
          -5876.021977185552,
          -5915.295128367361,
          -5953.852646233514,
          -5991.6893228980425,
          -6028.800295059876,
          -6065.124068298294,
          -6100.770168371655,
          -6135.621872871827,
          -6169.731266859096,
          -6203.093707810295,
          -6235.704873968466,
          -6267.56041844253,
          -6298.656191287072,
          -6328.987827908731,
          -6358.505715239406,
          -6387.254077935523,
          -6415.229057561211,
          -6442.4269858965345,
          -6468.844278241309,
          -6494.477275009787,
          -6519.322669173063,
          -6543.3398954837585,
          -6566.60136718637,
          -6589.030874400269,
          -6610.662589599519,
          -6631.461471121597,
          -6651.490279678094,
          -6670.712879500732,
          -6689.09834060159,
          -6706.675195733448,
          -6723.415250871498,
          -6739.368942485352,
          -6754.484080179624,
          -6768.784223443774,
          -6782.247023198752,
          -6794.89368281489,
          -6806.7046517260305,
          -6817.698745343105,
          -6827.843938343284,
          -6837.174646851722,
          -6845.664158752444,
          -6853.319162097267,
          -6860.146341714524,
          -6866.134847078009,
          -6871.28420464502,
          -6875.597662168655,
          -6879.078011144071,
          -6881.717320206895,
          -6883.516807280597,
          -6884.482228936897,
          -6884.608451317678,
          -6883.894415639743,
          -6882.347134907529,
          -6879.956824707029,
          -6876.7347464533,
          -6872.673834584878,
          -6867.776298732432,
          -6862.038822758196,
          -6855.473169140441,
          -6848.068604363622,
          -6839.828436184208,
          -6830.761203613804,
          -6820.864140815737,
          -6810.134671401643,
          -6798.570271936993,
          -6786.188996906595,
          -6772.970673594141,
          -6758.936236352181,
          -6744.087483566014,
          -6728.40066996629,
          -6711.900892185192,
          -6694.590377574137,
          -6676.47131476719,
          -6657.515329007356,
          -6637.785118635363,
          -6617.220457624451,
          -6595.854884176954,
          -6573.691064285285,
          -6550.73196608375,
          -6526.980580979804,
          -6502.400335788095,
          -6477.072476340607,
          -6450.919892657339,
          -6424.028915318034,
          -6396.317583452587,
          -6367.831601656913,
          -6338.574722560341,
          -6308.550897337718,
          -6277.763768592654,
          -6246.217578706975,
          -6213.864498475499,
          -6180.811284771509,
          -6146.957251074843,
          -6112.414200848019,
          -6077.076906962488,
          -6041.0619338073,
          -6004.259683119437,
          -5966.731513422618,
          -5928.482304218951,
          -5889.516896450872,
          -5849.840472420559,
          -5809.393507779427,
          -5768.309180662744,
          -5726.462783058947,
          -5683.991954339121,
          -5640.767617738397,
          -5596.9320734684225,
          -5552.352080190433,
          -5507.102439583283,
          -5461.188669264369,
          -5414.6166597062775,
          -5367.317474431388,
          -5319.446429351229,
          -5270.935295586072,
          -5221.712177155843,
          -5171.938856747471,
          -5121.464032314681,
          -5070.372561288913,
          -5018.670783065442,
          -4966.365446527799,
          -4913.463199119882,
          -4859.97057649824,
          -4805.894531943952,
          -4751.154917100272,
          -4695.9313551109135,
          -4640.056495906336,
          -4583.713690423861,
          -4526.731593845276,
          -4469.2065516309085,
          -4411.145229149507,
          -4352.555302137145,
          -4293.443926789689,
          -4233.724196075183,
          -4173.5915879419945,
          -4112.959913823178,
          -4051.739863536422,
          -3990.034596242172,
          -3927.949989840087,
          -3865.2977602283145,
          -3802.183331564908,
          -3738.614753556945,
          -3674.4984338333015,
          -3610.0441476034007,
          -3545.15951602832,
          -3479.748820282197,
          -3414.026502119817,
          -3347.7932061130787,
          -3281.1604089718226,
          -3214.136322291026,
          -3146.729418186088,
          -3078.947535981564,
          -3010.799444825938,
          -2942.293275704375,
          -2873.4374175284925,
          -2804.1310344603708,
          -2734.6007995957902,
          -2664.635724822164,
          -2594.464869074335,
          -2523.875258485152,
          -2452.9862590575376,
          -2381.8062734057694,
          -2310.343963249755,
          -2238.6080157399997,
          -2166.6071415202496,
          -2094.350313313111,
          -2021.7315377681189,
          -1948.9882420311376,
          -1876.014858620459,
          -1802.705334713719,
          -1729.1829534379856,
          -1655.572370139417,
          -1581.651281884185,
          -1507.544059685815,
          -1433.2596473528242,
          -1358.8070035141775,
          -1284.1951004880743,
          -1209.4329226895352,
          -1134.5294671272204,
          -1059.4939890297478,
          -984.3350112707348,
          -909.0618085506728,
          -833.5648451019795,
          -758.0904085501937,
          -682.5286424991385,
          -606.7701289705542,
          -531.061271760031,
          -455.17336483830894,
          -379.23474415858414,
          -303.37333279278226,
          -227.3601836007851,
          -151.32316079072052,
          -75.39129065535627,
          0.6656140656244074,
          76.71854699267449,
          152.7588910382886,
          228.7770314140548,
          304.64507417156426,
          380.592045509526,
          456.49000657145086,
          532.3293618971483,
          608.101520269796,
          683.7971496438969,
          759.4069272796933,
          834.9222844131851,
          910.333916588098,
          985.6325314813772,
          1060.8095896245386,
          1135.85582172432,
          1210.7622184477427,
          1285.5197846527992,
          1360.1195395622617,
          1434.5525177262143,
          1508.8097696113548,
          1582.9985432742385,
          1656.877253692703,
          1730.5534810459674,
          1804.0185901339144,
          1877.263242215021,
          1950.279083229617,
          2022.9427140393043,
          2095.474430139299,
          2167.7507383781444,
          2239.7626612783392,
          2311.5019542015666,
          2382.959690271137,
          2454.127207160708,
          2524.996100654075,
          2595.4467325236005,
          2665.692630372566,
          2735.613729246011,
          2805.2019742686775,
          2874.3401798829163,
          2943.237405765052,
          3011.7762202833796,
          3079.841481092876,
          3147.6391947991287,
          3214.9477055773004,
          3281.970931123734,
          3348.4899515730385,
          3414.602178777533,
          3480.4027160718406,
          3545.6764042527752,
          3610.519303755311,
          3674.923222158917,
          3738.880225576227,
          3802.482138532478,
          3865.520959034082,
          3928.0895339700655,
          3990.082647449392,
          4051.6881059434495,
          4112.800037781202,
          4173.41085117289,
          4233.513006422958,
          4293.005921802306,
          4352.069381421297,
          4410.601902339208,
          4468.505587279804,
          4525.865480047571,
          4582.763446343537,
          4639.013614535726,
          4694.698657812044,
          4749.898113555771,
          4804.431278065713,
          4858.378718590519,
          4911.733465517758,
          4964.488964115202,
          5016.638382743872,
          5068.175298751712,
          5119.093186236174,
          5169.306721682031,
          5218.967937470693,
          5267.99114908974,
          5316.294123546186,
          5364.023239756596,
          5411.02210216484,
          5457.432818654324,
          5503.103600794956,
          5548.101932094726,
          5592.4223576642735,
          5636.127347762378,
          5679.073508725284,
          5721.3249865540765,
          5762.876215116733,
          5803.7218570800205,
          5843.794037960178,
          5883.214214902371,
          5921.913301537507,
          5959.886304997527,
          5997.070262634243,
          6033.57798825136,
          6069.2893338156255,
          6104.312760556698,
          6138.533099378123,
          6172.0017631733845,
          6204.765619022596,
          6236.717004243211,
          6267.904158958039,
          6298.322915263757,
          6327.969306344999,
          6356.839649577089,
          6384.929977925602,
          6412.194322229286,
          6438.71536716111,
          6464.445910224518,
          6489.343737959772,
          6513.484531011397,
          6536.788797747921,
          6559.292338709053,
          6580.99216052163,
          6601.88557541671,
          6621.969708120367,
          6641.242049589248,
          6659.700100329317,
          6677.31410348501,
          6694.111717221974,
          6710.090753507934,
          6725.249144397798,
          6739.56277712076,
          6753.075410882085,
          6765.722795432995,
          6777.547576693188,
          6788.548267937355,
          6798.707882997244,
          6808.014666953409,
          6816.501373056771,
          6824.131838222258,
          6830.92727213623,
          6836.885522207941,
          6842.001964828294,
          6846.269173130105,
          6849.689223303776,
          6852.272298556652,
          6854.007940448711,
          6854.8964280246255,
          6854.942156953754,
          6854.141535557702,
          6852.494864446049,
          6850.003654746023,
          6846.669638464788,
          6842.491401295695,
          6837.466403446539,
          6831.596912888852,
          6824.883102566853,
          6817.335464056282,
          6808.933471157499,
          6799.71189057246,
          6789.63918731151,
          6778.72663460506,
          6766.971779587064,
          6754.392675076892,
          6740.969367619199,
          6726.722704748189,
          6711.654590840001,
          6695.741557300575,
          6679.008728746762,
          6661.458224380358,
          6643.063119057691,
          6623.883308115153,
          6603.861327637435,
          6583.029277268462,
          6561.389904954445,
          6538.910300141024,
          6515.663824498526,
          6491.580606221894,
          6466.699803439896,
          6441.024711374311,
          6414.5586303133405,
          6387.305200561615,
          6359.267994529939,
          6330.450674159271,
          6300.810164233211,
          6270.443027304219,
          6239.258165798952,
          6207.306640532378,
          6174.59269185912,
          6141.120656426279,
          6106.894853966176,
          6071.919909805397,
          6036.200324650234,
          5999.683066830826,
          5962.487227971078,
          5924.501084614072,
          5885.848531962907,
          5846.413302382395,
          5806.260713586204,
          5765.395887707113,
          5723.824282085697,
          5681.55118393226,
          5638.582086736902,
          5594.853624289024,
          5550.508266911627,
          5505.412805666464,
          5459.714175688233,
          5413.275201761132,
          5366.172682076123,
          5318.412687558306,
          5270.00166789465,
          5220.945546939795,
          5171.25077295458,
          5120.923719409257,
          5069.890390072671,
          5018.317036231277,
          4966.048732757027,
          4913.172269895259,
          4859.778663077744,
          4805.707276256055,
          4751.048315904235,
          4695.808551903378,
          4639.994981830705,
          4583.614844410341,
          4526.5857373301515,
          4469.092679349163,
          4410.963548887965,
          4352.386760376349,
          4293.1867125975705,
          4233.555662655185,
          4173.314617812851,
          4112.563869640819,
          4051.311023860615,
          3989.563737771141,
          3927.329913204359,
          3864.6171165625055,
          3801.334000978823,
          3737.686199913659,
          3673.583002546668,
          3608.930864702504,
          3543.9402702704556,
          3478.415411951084,
          3412.4660980928147,
          3346.204037061571,
          3279.4305534058785,
          3212.2569898796983,
          3144.6918318474945,
          3076.7429748641443,
          3008.419190060644,
          2939.728653665022,
          2870.679787510276,
          2801.1723639637485,
          2731.4317075824183,
          2661.3582004985287,
          2590.9606133498824,
          2520.1363680014847,
          2449.11548945599,
          2377.6844991894363,
          2306.074948913652,
          2234.071780604878,
          2161.795423216178,
          2089.368047943222,
          2016.572098929648,
          1943.529612026256,
          1870.3635185255464,
          1796.8544603694857,
          1723.1250423297654,
          1649.1846423675695,
          1575.1578225035944,
          1500.8219173371087,
          1426.3019007024784,
          1351.6065398183855,
          1276.7448473344043,
          1201.7258510800675,
          1126.5585936942264,
          1051.2523641895652,
          975.933581587116,
          900.3761145524403,
          824.7066744893926,
          748.9343660143078,
          673.0685373443363,
          597.1178457306854,
          521.0916572583387,
          444.99934615676415,
          368.96845300028207,
          292.77094403327607,
          216.53429078394143,
          140.267891538777,
          64.10018577469596,
          -12.19818958275866,
          -88.49857748027061,
          -164.6732532634974,
          -240.9508756060556,
          -317.2029953850253,
          -393.3020370604055,
          -469.3573827466172,
          -545.4790631122354,
          -621.4202215931075,
          -697.4087527488332,
          -773.1989388324001,
          -848.9000183304074,
          -924.5026513715344,
          -999.9981987566836,
          -1075.3773344385324,
          -1150.6309716911192,
          -1225.7500329058855,
          -1300.7254504562595,
          -1375.548167162795,
          -1450.2091368434512,
          -1524.5831582110304,
          -1598.893840623401,
          -1672.9001638899394,
          -1746.8248146809651,
          -1820.4275846553817,
          -1893.8155713411315,
          -1966.9794249867464,
          -2040.0245222911592,
          -2112.6001159445836,
          -2185.0392428501164,
          -2257.219044838459,
          -2329.130718974224,
          -2400.653772946016,
          -2472.0033371677164,
          -2542.947957366616,
          -2613.7005367709075,
          -2684.0317857773352,
          -2754.0434395317247,
          -2823.7273384249856,
          -2893.0747123021033,
          -2962.077033156673,
          -3030.618726468946,
          -3098.906272619055,
          -3166.71727431856,
          -3234.256158886106,
          -3301.303182962798,
          -3367.955959246622,
          -3434.2062350847827,
          -3500.0457938151753,
          -3565.36459110798,
          -3630.3591036406738,
          -3694.918496265874,
          -3758.934736628063,
          -3822.501423538745,
          -3885.610427982964,
          -3948.253862291191,
          -4010.423884205632,
          -4072.112697916963,
          -4133.312739972351,
          -4193.921445500494,
          -4254.02763416757,
          -4313.716433904738,
          -4372.793932472509,
          -4431.346003533254,
          -4489.365598444743,
          -4546.755508984341,
          -4603.688674070076,
          -4659.9795627920375,
          -4715.7977331513775,
          -4770.960966253541,
          -4825.550160127342,
          -4879.558511896495,
          -4932.97895640433,
          -4985.72241609261,
          -5037.947709510235,
          -5089.484466454671,
          -5140.487966059371,
          -5190.791530524452,
          -5240.4693108764295,
          -5289.514898002922,
          -5337.8463203263655,
          -5385.609467960312,
          -5432.721643509658
         ]
        }
       ],
       "layout": {
        "scene": {
         "xaxis": {
          "title": {
           "text": "X_ECI_km"
          }
         },
         "yaxis": {
          "title": {
           "text": "Y_ECI_km"
          }
         },
         "zaxis": {
          "title": {
           "text": "Z_ECI_km"
          }
         }
        },
        "template": {
         "data": {
          "bar": [
           {
            "error_x": {
             "color": "#2a3f5f"
            },
            "error_y": {
             "color": "#2a3f5f"
            },
            "marker": {
             "line": {
              "color": "#E5ECF6",
              "width": 0.5
             },
             "pattern": {
              "fillmode": "overlay",
              "size": 10,
              "solidity": 0.2
             }
            },
            "type": "bar"
           }
          ],
          "barpolar": [
           {
            "marker": {
             "line": {
              "color": "#E5ECF6",
              "width": 0.5
             },
             "pattern": {
              "fillmode": "overlay",
              "size": 10,
              "solidity": 0.2
             }
            },
            "type": "barpolar"
           }
          ],
          "carpet": [
           {
            "aaxis": {
             "endlinecolor": "#2a3f5f",
             "gridcolor": "white",
             "linecolor": "white",
             "minorgridcolor": "white",
             "startlinecolor": "#2a3f5f"
            },
            "baxis": {
             "endlinecolor": "#2a3f5f",
             "gridcolor": "white",
             "linecolor": "white",
             "minorgridcolor": "white",
             "startlinecolor": "#2a3f5f"
            },
            "type": "carpet"
           }
          ],
          "choropleth": [
           {
            "colorbar": {
             "outlinewidth": 0,
             "ticks": ""
            },
            "type": "choropleth"
           }
          ],
          "contour": [
           {
            "colorbar": {
             "outlinewidth": 0,
             "ticks": ""
            },
            "colorscale": [
             [
              0,
              "#0d0887"
             ],
             [
              0.1111111111111111,
              "#46039f"
             ],
             [
              0.2222222222222222,
              "#7201a8"
             ],
             [
              0.3333333333333333,
              "#9c179e"
             ],
             [
              0.4444444444444444,
              "#bd3786"
             ],
             [
              0.5555555555555556,
              "#d8576b"
             ],
             [
              0.6666666666666666,
              "#ed7953"
             ],
             [
              0.7777777777777778,
              "#fb9f3a"
             ],
             [
              0.8888888888888888,
              "#fdca26"
             ],
             [
              1,
              "#f0f921"
             ]
            ],
            "type": "contour"
           }
          ],
          "contourcarpet": [
           {
            "colorbar": {
             "outlinewidth": 0,
             "ticks": ""
            },
            "type": "contourcarpet"
           }
          ],
          "heatmap": [
           {
            "colorbar": {
             "outlinewidth": 0,
             "ticks": ""
            },
            "colorscale": [
             [
              0,
              "#0d0887"
             ],
             [
              0.1111111111111111,
              "#46039f"
             ],
             [
              0.2222222222222222,
              "#7201a8"
             ],
             [
              0.3333333333333333,
              "#9c179e"
             ],
             [
              0.4444444444444444,
              "#bd3786"
             ],
             [
              0.5555555555555556,
              "#d8576b"
             ],
             [
              0.6666666666666666,
              "#ed7953"
             ],
             [
              0.7777777777777778,
              "#fb9f3a"
             ],
             [
              0.8888888888888888,
              "#fdca26"
             ],
             [
              1,
              "#f0f921"
             ]
            ],
            "type": "heatmap"
           }
          ],
          "heatmapgl": [
           {
            "colorbar": {
             "outlinewidth": 0,
             "ticks": ""
            },
            "colorscale": [
             [
              0,
              "#0d0887"
             ],
             [
              0.1111111111111111,
              "#46039f"
             ],
             [
              0.2222222222222222,
              "#7201a8"
             ],
             [
              0.3333333333333333,
              "#9c179e"
             ],
             [
              0.4444444444444444,
              "#bd3786"
             ],
             [
              0.5555555555555556,
              "#d8576b"
             ],
             [
              0.6666666666666666,
              "#ed7953"
             ],
             [
              0.7777777777777778,
              "#fb9f3a"
             ],
             [
              0.8888888888888888,
              "#fdca26"
             ],
             [
              1,
              "#f0f921"
             ]
            ],
            "type": "heatmapgl"
           }
          ],
          "histogram": [
           {
            "marker": {
             "pattern": {
              "fillmode": "overlay",
              "size": 10,
              "solidity": 0.2
             }
            },
            "type": "histogram"
           }
          ],
          "histogram2d": [
           {
            "colorbar": {
             "outlinewidth": 0,
             "ticks": ""
            },
            "colorscale": [
             [
              0,
              "#0d0887"
             ],
             [
              0.1111111111111111,
              "#46039f"
             ],
             [
              0.2222222222222222,
              "#7201a8"
             ],
             [
              0.3333333333333333,
              "#9c179e"
             ],
             [
              0.4444444444444444,
              "#bd3786"
             ],
             [
              0.5555555555555556,
              "#d8576b"
             ],
             [
              0.6666666666666666,
              "#ed7953"
             ],
             [
              0.7777777777777778,
              "#fb9f3a"
             ],
             [
              0.8888888888888888,
              "#fdca26"
             ],
             [
              1,
              "#f0f921"
             ]
            ],
            "type": "histogram2d"
           }
          ],
          "histogram2dcontour": [
           {
            "colorbar": {
             "outlinewidth": 0,
             "ticks": ""
            },
            "colorscale": [
             [
              0,
              "#0d0887"
             ],
             [
              0.1111111111111111,
              "#46039f"
             ],
             [
              0.2222222222222222,
              "#7201a8"
             ],
             [
              0.3333333333333333,
              "#9c179e"
             ],
             [
              0.4444444444444444,
              "#bd3786"
             ],
             [
              0.5555555555555556,
              "#d8576b"
             ],
             [
              0.6666666666666666,
              "#ed7953"
             ],
             [
              0.7777777777777778,
              "#fb9f3a"
             ],
             [
              0.8888888888888888,
              "#fdca26"
             ],
             [
              1,
              "#f0f921"
             ]
            ],
            "type": "histogram2dcontour"
           }
          ],
          "mesh3d": [
           {
            "colorbar": {
             "outlinewidth": 0,
             "ticks": ""
            },
            "type": "mesh3d"
           }
          ],
          "parcoords": [
           {
            "line": {
             "colorbar": {
              "outlinewidth": 0,
              "ticks": ""
             }
            },
            "type": "parcoords"
           }
          ],
          "pie": [
           {
            "automargin": true,
            "type": "pie"
           }
          ],
          "scatter": [
           {
            "fillpattern": {
             "fillmode": "overlay",
             "size": 10,
             "solidity": 0.2
            },
            "type": "scatter"
           }
          ],
          "scatter3d": [
           {
            "line": {
             "colorbar": {
              "outlinewidth": 0,
              "ticks": ""
             }
            },
            "marker": {
             "colorbar": {
              "outlinewidth": 0,
              "ticks": ""
             }
            },
            "type": "scatter3d"
           }
          ],
          "scattercarpet": [
           {
            "marker": {
             "colorbar": {
              "outlinewidth": 0,
              "ticks": ""
             }
            },
            "type": "scattercarpet"
           }
          ],
          "scattergeo": [
           {
            "marker": {
             "colorbar": {
              "outlinewidth": 0,
              "ticks": ""
             }
            },
            "type": "scattergeo"
           }
          ],
          "scattergl": [
           {
            "marker": {
             "colorbar": {
              "outlinewidth": 0,
              "ticks": ""
             }
            },
            "type": "scattergl"
           }
          ],
          "scattermapbox": [
           {
            "marker": {
             "colorbar": {
              "outlinewidth": 0,
              "ticks": ""
             }
            },
            "type": "scattermapbox"
           }
          ],
          "scatterpolar": [
           {
            "marker": {
             "colorbar": {
              "outlinewidth": 0,
              "ticks": ""
             }
            },
            "type": "scatterpolar"
           }
          ],
          "scatterpolargl": [
           {
            "marker": {
             "colorbar": {
              "outlinewidth": 0,
              "ticks": ""
             }
            },
            "type": "scatterpolargl"
           }
          ],
          "scatterternary": [
           {
            "marker": {
             "colorbar": {
              "outlinewidth": 0,
              "ticks": ""
             }
            },
            "type": "scatterternary"
           }
          ],
          "surface": [
           {
            "colorbar": {
             "outlinewidth": 0,
             "ticks": ""
            },
            "colorscale": [
             [
              0,
              "#0d0887"
             ],
             [
              0.1111111111111111,
              "#46039f"
             ],
             [
              0.2222222222222222,
              "#7201a8"
             ],
             [
              0.3333333333333333,
              "#9c179e"
             ],
             [
              0.4444444444444444,
              "#bd3786"
             ],
             [
              0.5555555555555556,
              "#d8576b"
             ],
             [
              0.6666666666666666,
              "#ed7953"
             ],
             [
              0.7777777777777778,
              "#fb9f3a"
             ],
             [
              0.8888888888888888,
              "#fdca26"
             ],
             [
              1,
              "#f0f921"
             ]
            ],
            "type": "surface"
           }
          ],
          "table": [
           {
            "cells": {
             "fill": {
              "color": "#EBF0F8"
             },
             "line": {
              "color": "white"
             }
            },
            "header": {
             "fill": {
              "color": "#C8D4E3"
             },
             "line": {
              "color": "white"
             }
            },
            "type": "table"
           }
          ]
         },
         "layout": {
          "annotationdefaults": {
           "arrowcolor": "#2a3f5f",
           "arrowhead": 0,
           "arrowwidth": 1
          },
          "autotypenumbers": "strict",
          "coloraxis": {
           "colorbar": {
            "outlinewidth": 0,
            "ticks": ""
           }
          },
          "colorscale": {
           "diverging": [
            [
             0,
             "#8e0152"
            ],
            [
             0.1,
             "#c51b7d"
            ],
            [
             0.2,
             "#de77ae"
            ],
            [
             0.3,
             "#f1b6da"
            ],
            [
             0.4,
             "#fde0ef"
            ],
            [
             0.5,
             "#f7f7f7"
            ],
            [
             0.6,
             "#e6f5d0"
            ],
            [
             0.7,
             "#b8e186"
            ],
            [
             0.8,
             "#7fbc41"
            ],
            [
             0.9,
             "#4d9221"
            ],
            [
             1,
             "#276419"
            ]
           ],
           "sequential": [
            [
             0,
             "#0d0887"
            ],
            [
             0.1111111111111111,
             "#46039f"
            ],
            [
             0.2222222222222222,
             "#7201a8"
            ],
            [
             0.3333333333333333,
             "#9c179e"
            ],
            [
             0.4444444444444444,
             "#bd3786"
            ],
            [
             0.5555555555555556,
             "#d8576b"
            ],
            [
             0.6666666666666666,
             "#ed7953"
            ],
            [
             0.7777777777777778,
             "#fb9f3a"
            ],
            [
             0.8888888888888888,
             "#fdca26"
            ],
            [
             1,
             "#f0f921"
            ]
           ],
           "sequentialminus": [
            [
             0,
             "#0d0887"
            ],
            [
             0.1111111111111111,
             "#46039f"
            ],
            [
             0.2222222222222222,
             "#7201a8"
            ],
            [
             0.3333333333333333,
             "#9c179e"
            ],
            [
             0.4444444444444444,
             "#bd3786"
            ],
            [
             0.5555555555555556,
             "#d8576b"
            ],
            [
             0.6666666666666666,
             "#ed7953"
            ],
            [
             0.7777777777777778,
             "#fb9f3a"
            ],
            [
             0.8888888888888888,
             "#fdca26"
            ],
            [
             1,
             "#f0f921"
            ]
           ]
          },
          "colorway": [
           "#636efa",
           "#EF553B",
           "#00cc96",
           "#ab63fa",
           "#FFA15A",
           "#19d3f3",
           "#FF6692",
           "#B6E880",
           "#FF97FF",
           "#FECB52"
          ],
          "font": {
           "color": "#2a3f5f"
          },
          "geo": {
           "bgcolor": "white",
           "lakecolor": "white",
           "landcolor": "#E5ECF6",
           "showlakes": true,
           "showland": true,
           "subunitcolor": "white"
          },
          "hoverlabel": {
           "align": "left"
          },
          "hovermode": "closest",
          "mapbox": {
           "style": "light"
          },
          "paper_bgcolor": "white",
          "plot_bgcolor": "#E5ECF6",
          "polar": {
           "angularaxis": {
            "gridcolor": "white",
            "linecolor": "white",
            "ticks": ""
           },
           "bgcolor": "#E5ECF6",
           "radialaxis": {
            "gridcolor": "white",
            "linecolor": "white",
            "ticks": ""
           }
          },
          "scene": {
           "xaxis": {
            "backgroundcolor": "#E5ECF6",
            "gridcolor": "white",
            "gridwidth": 2,
            "linecolor": "white",
            "showbackground": true,
            "ticks": "",
            "zerolinecolor": "white"
           },
           "yaxis": {
            "backgroundcolor": "#E5ECF6",
            "gridcolor": "white",
            "gridwidth": 2,
            "linecolor": "white",
            "showbackground": true,
            "ticks": "",
            "zerolinecolor": "white"
           },
           "zaxis": {
            "backgroundcolor": "#E5ECF6",
            "gridcolor": "white",
            "gridwidth": 2,
            "linecolor": "white",
            "showbackground": true,
            "ticks": "",
            "zerolinecolor": "white"
           }
          },
          "shapedefaults": {
           "line": {
            "color": "#2a3f5f"
           }
          },
          "ternary": {
           "aaxis": {
            "gridcolor": "white",
            "linecolor": "white",
            "ticks": ""
           },
           "baxis": {
            "gridcolor": "white",
            "linecolor": "white",
            "ticks": ""
           },
           "bgcolor": "#E5ECF6",
           "caxis": {
            "gridcolor": "white",
            "linecolor": "white",
            "ticks": ""
           }
          },
          "title": {
           "x": 0.05
          },
          "xaxis": {
           "automargin": true,
           "gridcolor": "white",
           "linecolor": "white",
           "ticks": "",
           "title": {
            "standoff": 15
           },
           "zerolinecolor": "white",
           "zerolinewidth": 2
          },
          "yaxis": {
           "automargin": true,
           "gridcolor": "white",
           "linecolor": "white",
           "ticks": "",
           "title": {
            "standoff": 15
           },
           "zerolinecolor": "white",
           "zerolinewidth": 2
          }
         }
        },
        "title": {
         "text": "3D Scatter Plot of X_ECI_km, Y_ECI_km, Z_ECI_km"
        }
       }
      }
     },
     "metadata": {},
     "output_type": "display_data"
    }
   ],
   "source": [
    "import plotly.graph_objects as go\n",
    "\n",
    "# Plot every 1000th X_ECI_km, Y_ECI_km, Z_ECI_km in plotly 3D\n",
    "sampled_df = df.iloc[:1000]\n",
    "fig = go.Figure()\n",
    "fig.add_trace(go.Scatter3d(\n",
    "    x=sampled_df['X_ECI_km'],\n",
    "    y=sampled_df['Y_ECI_km'],\n",
    "    z=sampled_df['Z_ECI_km'],\n",
    "    mode='markers',\n",
    "    marker=dict(size=1, color='blue')\n",
    "))\n",
    "\n",
    "fig.update_layout(\n",
    "    title='3D Scatter Plot of X_ECI_km, Y_ECI_km, Z_ECI_km',\n",
    "    scene=dict(\n",
    "        xaxis_title='X_ECI_km',\n",
    "        yaxis_title='Y_ECI_km',\n",
    "        zaxis_title='Z_ECI_km'\n",
    "    )\n",
    ")\n",
    "\n",
    "fig.show()"
   ]
  },
  {
   "cell_type": "code",
   "execution_count": null,
   "metadata": {},
   "outputs": [],
   "source": []
  }
 ],
 "metadata": {
  "kernelspec": {
   "display_name": "erp_tools_env",
   "language": "python",
   "name": "python3"
  },
  "language_info": {
   "codemirror_mode": {
    "name": "ipython",
    "version": 3
   },
   "file_extension": ".py",
   "mimetype": "text/x-python",
   "name": "python",
   "nbconvert_exporter": "python",
   "pygments_lexer": "ipython3",
   "version": "3.11.6"
  }
 },
 "nbformat": 4,
 "nbformat_minor": 2
}
